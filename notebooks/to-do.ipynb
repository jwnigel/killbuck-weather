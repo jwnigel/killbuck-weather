{
 "cells": [
  {
   "cell_type": "markdown",
   "id": "ea2434c5",
   "metadata": {},
   "source": [
    "# To Complete:"
   ]
  },
  {
   "cell_type": "markdown",
   "id": "088fa424",
   "metadata": {},
   "source": [
    "__[Data Parameters]('https://openweathermap.org/history-bulk#parameter')__\n"
   ]
  },
  {
   "cell_type": "markdown",
   "id": "4d5fa179",
   "metadata": {},
   "source": [
    "## Make sure data is correctly formated\n",
    "- Hour is correct (Timezone)\n",
    "- Units are correct\n",
    "    - Precip in inches\n",
    "    - Temp in Farenheit\n",
    "    - Wind speed in mph? fps?\n",
    "    - Pressure ?\n",
    "    - Humidity ?"
   ]
  },
  {
   "cell_type": "markdown",
   "id": "98a818af",
   "metadata": {},
   "source": [
    "## Precipitation"
   ]
  },
  {
   "cell_type": "markdown",
   "id": "c38ff4b1",
   "metadata": {},
   "source": [
    "- Convert snow and rain from cm to in\n",
    "- Combine snow and rain but allow for hue distinction \n",
    "- Create all months box and stripplot (already done)\n",
    "- Underneath create interactive dropdowns to compare:\n",
    "    - Months (How many?)\n",
    "    - Years (How many?)\n",
    "- Somehow graph outliers\n",
    "    - Droughts\n",
    "    - Floods"
   ]
  },
  {
   "cell_type": "markdown",
   "id": "5f059584",
   "metadata": {},
   "source": [
    "## Temperature\n",
    "#### Very similar to precipitation: Outliers in this case are heatwaves and cold spells\n",
    "- How to measure ground thaw in spring?\n",
    "- How to calculate frost?\n",
    "- How to relate temperature to bud swell / leaf out?\n"
   ]
  },
  {
   "cell_type": "code",
   "execution_count": null,
   "id": "3ac87726",
   "metadata": {},
   "outputs": [],
   "source": []
  }
 ],
 "metadata": {
  "kernelspec": {
   "display_name": "Python 3 (ipykernel)",
   "language": "python",
   "name": "python3"
  },
  "language_info": {
   "codemirror_mode": {
    "name": "ipython",
    "version": 3
   },
   "file_extension": ".py",
   "mimetype": "text/x-python",
   "name": "python",
   "nbconvert_exporter": "python",
   "pygments_lexer": "ipython3",
   "version": "3.10.6"
  }
 },
 "nbformat": 4,
 "nbformat_minor": 5
}
