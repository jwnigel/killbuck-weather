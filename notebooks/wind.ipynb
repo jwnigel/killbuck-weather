{
 "cells": [
  {
   "cell_type": "code",
   "execution_count": 1,
   "id": "c7aa80c5",
   "metadata": {},
   "outputs": [],
   "source": [
    "import numpy as np\n",
    "import pandas as pd\n",
    "import matplotlib.pyplot as plt\n",
    "import seaborn as sns\n",
    "import ipywidgets as widgets\n",
    "from rosely import WindRose\n",
    "import plotly.express as px\n",
    "import plotly.io as pio"
   ]
  },
  {
   "cell_type": "code",
   "execution_count": 2,
   "id": "b092344b",
   "metadata": {},
   "outputs": [],
   "source": [
    "data = pd.read_csv('../data/revised_weather.csv')"
   ]
  },
  {
   "cell_type": "code",
   "execution_count": 3,
   "id": "f32ab085",
   "metadata": {},
   "outputs": [],
   "source": [
    "# This isn't used as Rosely converts degrees to Cardinal points, but in case it's needed later... \n",
    "\n",
    "def cardinal_direction(wind_deg):\n",
    "    if wind_deg <= 11.25 or wind_deg > 348.75:\n",
    "        return 'N'\n",
    "    elif 11.25 < wind_deg <= 33.75:\n",
    "        return 'NNE'\n",
    "    elif 33.75 < wind_deg <= 56.25:\n",
    "        return 'NE'\n",
    "    elif 56.25 < wind_deg <= 78.75:\n",
    "        return 'ENE'\n",
    "    elif 78.75 < wind_deg <= 101.25:\n",
    "        return 'E'\n",
    "    elif 101.25 < wind_deg <= 123.75:\n",
    "        return 'ESE'\n",
    "    elif 123.75 < wind_deg <= 146.25:\n",
    "        return 'SE'\n",
    "    elif 146.25 < wind_deg <= 168.75:\n",
    "        return 'SSE'\n",
    "    elif 168.75 < wind_deg <= 191.25:\n",
    "        return 'S'\n",
    "    elif 191.25 < wind_deg <= 213.75:\n",
    "        return 'SSW'\n",
    "    elif 213.75 < wind_deg <= 236.25:\n",
    "        return 'SW'\n",
    "    elif 236.25 < wind_deg <= 258.75:\n",
    "        return 'WSW'\n",
    "    elif 258.75 < wind_deg <= 281.25:\n",
    "        return 'W'\n",
    "    elif 281.75 < wind_deg <= 303.75:\n",
    "        return 'WNW'\n",
    "    elif 303.75 < wind_deg <= 326.25:\n",
    "        return 'NW'\n",
    "    elif 326.25 < wind_deg <= 348.75:\n",
    "        return 'NNW'\n",
    "    else:\n",
    "        return 'Not Found'\n",
    "\n"
   ]
  },
  {
   "cell_type": "code",
   "execution_count": 9,
   "id": "4641107a",
   "metadata": {},
   "outputs": [],
   "source": [
    "wind = pd.DataFrame()\n",
    "wind.index = data.index\n",
    "wind['ws'] = data['wind_speed']\n",
    "wind['wd'] = data['wind_deg']\n",
    "wind['dt'] = data['dt']"
   ]
  },
  {
   "cell_type": "code",
   "execution_count": 14,
   "id": "4f793ea6",
   "metadata": {},
   "outputs": [
    {
     "data": {
      "application/vnd.plotly.v1+json": {
       "config": {
        "plotlyServerURL": "https://plot.ly"
       },
       "data": [
        {
         "hovertemplate": "speed=-0.03-4.20<br>frequency=%{r}<br>direction=%{theta}<extra></extra>",
         "legendgroup": "-0.03-4.20",
         "marker": {
          "color": "rgb(237, 239, 93)",
          "pattern": {
           "shape": ""
          }
         },
         "name": "-0.03-4.20",
         "r": [
          2336,
          2404,
          2487,
          2874,
          2602,
          2591,
          2451,
          2668,
          2406,
          2388,
          2431,
          2739,
          2453,
          2604,
          2543,
          2833,
          2828,
          2871,
          2645,
          2921,
          2681,
          2594,
          2569,
          2758,
          2242,
          2372,
          2234,
          2447,
          2245,
          2221,
          2266,
          2483
         ],
         "showlegend": true,
         "subplot": "polar",
         "theta": [
          "N",
          "NNE",
          "NNE",
          "NE",
          "NE",
          "ENE",
          "ENE",
          "E",
          "E",
          "ESE",
          "ESE",
          "SE",
          "SE",
          "SSE",
          "SSE",
          "S",
          "S",
          "SSW",
          "SSW",
          "SW",
          "SW",
          "WSW",
          "WSW",
          "W",
          "W",
          "WNW",
          "WNW",
          "NW",
          "NW",
          "NNW",
          "NNW",
          "N"
         ],
         "type": "barpolar"
        },
        {
         "hovertemplate": "speed=4.20-8.40<br>frequency=%{r}<br>direction=%{theta}<extra></extra>",
         "legendgroup": "4.20-8.40",
         "marker": {
          "color": "rgb(169, 220, 103)",
          "pattern": {
           "shape": ""
          }
         },
         "name": "4.20-8.40",
         "r": [
          5979,
          6142,
          6245,
          6539,
          5285,
          4786,
          4176,
          4174,
          3534,
          3462,
          3333,
          4025,
          4124,
          4934,
          6015,
          7836,
          8451,
          9320,
          9617,
          10609,
          9046,
          8365,
          7953,
          8256,
          7337,
          6717,
          6285,
          6170,
          5177,
          5029,
          4965,
          5546
         ],
         "showlegend": true,
         "subplot": "polar",
         "theta": [
          "N",
          "NNE",
          "NNE",
          "NE",
          "NE",
          "ENE",
          "ENE",
          "E",
          "E",
          "ESE",
          "ESE",
          "SE",
          "SE",
          "SSE",
          "SSE",
          "S",
          "S",
          "SSW",
          "SSW",
          "SW",
          "SW",
          "WSW",
          "WSW",
          "W",
          "W",
          "WNW",
          "WNW",
          "NW",
          "NW",
          "NNW",
          "NNW",
          "N"
         ],
         "type": "barpolar"
        },
        {
         "hovertemplate": "speed=8.40-12.60<br>frequency=%{r}<br>direction=%{theta}<extra></extra>",
         "legendgroup": "8.40-12.60",
         "marker": {
          "color": "rgb(110, 197, 116)",
          "pattern": {
           "shape": ""
          }
         },
         "name": "8.40-12.60",
         "r": [
          1682,
          1279,
          970,
          948,
          658,
          585,
          549,
          541,
          483,
          482,
          511,
          590,
          902,
          1349,
          1997,
          3097,
          4114,
          4857,
          5166,
          5450,
          4499,
          4066,
          4230,
          4859,
          4400,
          3891,
          3415,
          3124,
          2209,
          1840,
          1650,
          1768
         ],
         "showlegend": true,
         "subplot": "polar",
         "theta": [
          "N",
          "NNE",
          "NNE",
          "NE",
          "NE",
          "ENE",
          "ENE",
          "E",
          "E",
          "ESE",
          "ESE",
          "SE",
          "SE",
          "SSE",
          "SSE",
          "S",
          "S",
          "SSW",
          "SSW",
          "SW",
          "SW",
          "WSW",
          "WSW",
          "W",
          "W",
          "WNW",
          "WNW",
          "NW",
          "NW",
          "NNW",
          "NNW",
          "N"
         ],
         "type": "barpolar"
        },
        {
         "hovertemplate": "speed=12.60-16.79<br>frequency=%{r}<br>direction=%{theta}<extra></extra>",
         "legendgroup": "12.60-16.79",
         "marker": {
          "color": "rgb(57, 171, 126)",
          "pattern": {
           "shape": ""
          }
         },
         "name": "12.60-16.79",
         "r": [
          122,
          77,
          59,
          32,
          29,
          29,
          30,
          12,
          19,
          30,
          42,
          48,
          77,
          182,
          309,
          504,
          675,
          893,
          1022,
          1126,
          889,
          1014,
          1286,
          1587,
          1163,
          972,
          626,
          573,
          304,
          261,
          217,
          220
         ],
         "showlegend": true,
         "subplot": "polar",
         "theta": [
          "N",
          "NNE",
          "NNE",
          "NE",
          "NE",
          "ENE",
          "ENE",
          "E",
          "E",
          "ESE",
          "ESE",
          "SE",
          "SE",
          "SSE",
          "SSE",
          "S",
          "S",
          "SSW",
          "SSW",
          "SW",
          "SW",
          "WSW",
          "WSW",
          "W",
          "W",
          "WNW",
          "WNW",
          "NW",
          "NW",
          "NNW",
          "NNW",
          "N"
         ],
         "type": "barpolar"
        },
        {
         "hovertemplate": "speed=16.79-20.99<br>frequency=%{r}<br>direction=%{theta}<extra></extra>",
         "legendgroup": "16.79-20.99",
         "marker": {
          "color": "rgb(13, 143, 129)",
          "pattern": {
           "shape": ""
          }
         },
         "name": "16.79-20.99",
         "r": [
          4,
          0,
          2,
          0,
          0,
          0,
          0,
          0,
          1,
          0,
          0,
          0,
          2,
          8,
          46,
          44,
          70,
          89,
          79,
          107,
          143,
          188,
          249,
          252,
          170,
          94,
          42,
          20,
          31,
          32,
          23,
          13
         ],
         "showlegend": true,
         "subplot": "polar",
         "theta": [
          "N",
          "NNE",
          "NNE",
          "NE",
          "NE",
          "ENE",
          "ENE",
          "E",
          "E",
          "ESE",
          "ESE",
          "SE",
          "SE",
          "SSE",
          "SSE",
          "S",
          "S",
          "SSW",
          "SSW",
          "SW",
          "SW",
          "WSW",
          "WSW",
          "W",
          "W",
          "WNW",
          "WNW",
          "NW",
          "NW",
          "NNW",
          "NNW",
          "N"
         ],
         "type": "barpolar"
        },
        {
         "hovertemplate": "speed=20.99-25.19<br>frequency=%{r}<br>direction=%{theta}<extra></extra>",
         "legendgroup": "20.99-25.19",
         "marker": {
          "color": "rgb(15, 114, 121)",
          "pattern": {
           "shape": ""
          }
         },
         "name": "20.99-25.19",
         "r": [
          0,
          0,
          0,
          0,
          0,
          0,
          0,
          0,
          0,
          0,
          0,
          0,
          0,
          0,
          0,
          2,
          2,
          1,
          2,
          11,
          18,
          25,
          21,
          9,
          3,
          3,
          5,
          0,
          8,
          0,
          0,
          0
         ],
         "showlegend": true,
         "subplot": "polar",
         "theta": [
          "N",
          "NNE",
          "NNE",
          "NE",
          "NE",
          "ENE",
          "ENE",
          "E",
          "E",
          "ESE",
          "ESE",
          "SE",
          "SE",
          "SSE",
          "SSE",
          "S",
          "S",
          "SSW",
          "SSW",
          "SW",
          "SW",
          "WSW",
          "WSW",
          "W",
          "W",
          "WNW",
          "WNW",
          "NW",
          "NW",
          "NNW",
          "NNW",
          "N"
         ],
         "type": "barpolar"
        }
       ],
       "layout": {
        "barmode": "relative",
        "legend": {
         "title": {
          "text": "speed"
         },
         "tracegroupgap": 0
        },
        "polar": {
         "angularaxis": {
          "categoryarray": [
           "N",
           "NNE",
           "NE",
           "ENE",
           "E",
           "ESE",
           "SE",
           "SSE",
           "S",
           "SSW",
           "SW",
           "WSW",
           "W",
           "WNW",
           "NW",
           "NNW"
          ],
          "categoryorder": "array",
          "direction": "clockwise",
          "rotation": 90
         },
         "domain": {
          "x": [
           0,
           1
          ],
          "y": [
           0,
           1
          ]
         }
        },
        "template": {
         "data": {
          "pie": [
           {
            "automargin": true,
            "type": "pie"
           }
          ]
         },
         "layout": {
          "xaxis": {
           "showgrid": false,
           "title": {
            "standoff": 15
           }
          },
          "yaxis": {
           "title": {
            "standoff": 15
           }
          }
         }
        },
        "title": {
         "text": "Killbuck OH wind trends"
        }
       }
      },
      "text/html": [
       "<div>                            <div id=\"b849f5e5-6250-4407-8340-bbe566ddc439\" class=\"plotly-graph-div\" style=\"height:525px; width:100%;\"></div>            <script type=\"text/javascript\">                require([\"plotly\"], function(Plotly) {                    window.PLOTLYENV=window.PLOTLYENV || {};                                    if (document.getElementById(\"b849f5e5-6250-4407-8340-bbe566ddc439\")) {                    Plotly.newPlot(                        \"b849f5e5-6250-4407-8340-bbe566ddc439\",                        [{\"hovertemplate\":\"speed=-0.03-4.20<br>frequency=%{r}<br>direction=%{theta}<extra></extra>\",\"legendgroup\":\"-0.03-4.20\",\"marker\":{\"color\":\"rgb(237, 239, 93)\",\"pattern\":{\"shape\":\"\"}},\"name\":\"-0.03-4.20\",\"r\":[2336,2404,2487,2874,2602,2591,2451,2668,2406,2388,2431,2739,2453,2604,2543,2833,2828,2871,2645,2921,2681,2594,2569,2758,2242,2372,2234,2447,2245,2221,2266,2483],\"showlegend\":true,\"subplot\":\"polar\",\"theta\":[\"N\",\"NNE\",\"NNE\",\"NE\",\"NE\",\"ENE\",\"ENE\",\"E\",\"E\",\"ESE\",\"ESE\",\"SE\",\"SE\",\"SSE\",\"SSE\",\"S\",\"S\",\"SSW\",\"SSW\",\"SW\",\"SW\",\"WSW\",\"WSW\",\"W\",\"W\",\"WNW\",\"WNW\",\"NW\",\"NW\",\"NNW\",\"NNW\",\"N\"],\"type\":\"barpolar\"},{\"hovertemplate\":\"speed=4.20-8.40<br>frequency=%{r}<br>direction=%{theta}<extra></extra>\",\"legendgroup\":\"4.20-8.40\",\"marker\":{\"color\":\"rgb(169, 220, 103)\",\"pattern\":{\"shape\":\"\"}},\"name\":\"4.20-8.40\",\"r\":[5979,6142,6245,6539,5285,4786,4176,4174,3534,3462,3333,4025,4124,4934,6015,7836,8451,9320,9617,10609,9046,8365,7953,8256,7337,6717,6285,6170,5177,5029,4965,5546],\"showlegend\":true,\"subplot\":\"polar\",\"theta\":[\"N\",\"NNE\",\"NNE\",\"NE\",\"NE\",\"ENE\",\"ENE\",\"E\",\"E\",\"ESE\",\"ESE\",\"SE\",\"SE\",\"SSE\",\"SSE\",\"S\",\"S\",\"SSW\",\"SSW\",\"SW\",\"SW\",\"WSW\",\"WSW\",\"W\",\"W\",\"WNW\",\"WNW\",\"NW\",\"NW\",\"NNW\",\"NNW\",\"N\"],\"type\":\"barpolar\"},{\"hovertemplate\":\"speed=8.40-12.60<br>frequency=%{r}<br>direction=%{theta}<extra></extra>\",\"legendgroup\":\"8.40-12.60\",\"marker\":{\"color\":\"rgb(110, 197, 116)\",\"pattern\":{\"shape\":\"\"}},\"name\":\"8.40-12.60\",\"r\":[1682,1279,970,948,658,585,549,541,483,482,511,590,902,1349,1997,3097,4114,4857,5166,5450,4499,4066,4230,4859,4400,3891,3415,3124,2209,1840,1650,1768],\"showlegend\":true,\"subplot\":\"polar\",\"theta\":[\"N\",\"NNE\",\"NNE\",\"NE\",\"NE\",\"ENE\",\"ENE\",\"E\",\"E\",\"ESE\",\"ESE\",\"SE\",\"SE\",\"SSE\",\"SSE\",\"S\",\"S\",\"SSW\",\"SSW\",\"SW\",\"SW\",\"WSW\",\"WSW\",\"W\",\"W\",\"WNW\",\"WNW\",\"NW\",\"NW\",\"NNW\",\"NNW\",\"N\"],\"type\":\"barpolar\"},{\"hovertemplate\":\"speed=12.60-16.79<br>frequency=%{r}<br>direction=%{theta}<extra></extra>\",\"legendgroup\":\"12.60-16.79\",\"marker\":{\"color\":\"rgb(57, 171, 126)\",\"pattern\":{\"shape\":\"\"}},\"name\":\"12.60-16.79\",\"r\":[122,77,59,32,29,29,30,12,19,30,42,48,77,182,309,504,675,893,1022,1126,889,1014,1286,1587,1163,972,626,573,304,261,217,220],\"showlegend\":true,\"subplot\":\"polar\",\"theta\":[\"N\",\"NNE\",\"NNE\",\"NE\",\"NE\",\"ENE\",\"ENE\",\"E\",\"E\",\"ESE\",\"ESE\",\"SE\",\"SE\",\"SSE\",\"SSE\",\"S\",\"S\",\"SSW\",\"SSW\",\"SW\",\"SW\",\"WSW\",\"WSW\",\"W\",\"W\",\"WNW\",\"WNW\",\"NW\",\"NW\",\"NNW\",\"NNW\",\"N\"],\"type\":\"barpolar\"},{\"hovertemplate\":\"speed=16.79-20.99<br>frequency=%{r}<br>direction=%{theta}<extra></extra>\",\"legendgroup\":\"16.79-20.99\",\"marker\":{\"color\":\"rgb(13, 143, 129)\",\"pattern\":{\"shape\":\"\"}},\"name\":\"16.79-20.99\",\"r\":[4,0,2,0,0,0,0,0,1,0,0,0,2,8,46,44,70,89,79,107,143,188,249,252,170,94,42,20,31,32,23,13],\"showlegend\":true,\"subplot\":\"polar\",\"theta\":[\"N\",\"NNE\",\"NNE\",\"NE\",\"NE\",\"ENE\",\"ENE\",\"E\",\"E\",\"ESE\",\"ESE\",\"SE\",\"SE\",\"SSE\",\"SSE\",\"S\",\"S\",\"SSW\",\"SSW\",\"SW\",\"SW\",\"WSW\",\"WSW\",\"W\",\"W\",\"WNW\",\"WNW\",\"NW\",\"NW\",\"NNW\",\"NNW\",\"N\"],\"type\":\"barpolar\"},{\"hovertemplate\":\"speed=20.99-25.19<br>frequency=%{r}<br>direction=%{theta}<extra></extra>\",\"legendgroup\":\"20.99-25.19\",\"marker\":{\"color\":\"rgb(15, 114, 121)\",\"pattern\":{\"shape\":\"\"}},\"name\":\"20.99-25.19\",\"r\":[0,0,0,0,0,0,0,0,0,0,0,0,0,0,0,2,2,1,2,11,18,25,21,9,3,3,5,0,8,0,0,0],\"showlegend\":true,\"subplot\":\"polar\",\"theta\":[\"N\",\"NNE\",\"NNE\",\"NE\",\"NE\",\"ENE\",\"ENE\",\"E\",\"E\",\"ESE\",\"ESE\",\"SE\",\"SE\",\"SSE\",\"SSE\",\"S\",\"S\",\"SSW\",\"SSW\",\"SW\",\"SW\",\"WSW\",\"WSW\",\"W\",\"W\",\"WNW\",\"WNW\",\"NW\",\"NW\",\"NNW\",\"NNW\",\"N\"],\"type\":\"barpolar\"}],                        {\"template\":{\"data\":{\"pie\":[{\"automargin\":true,\"type\":\"pie\"}]},\"layout\":{\"xaxis\":{\"showgrid\":false,\"title\":{\"standoff\":15}},\"yaxis\":{\"title\":{\"standoff\":15}}}},\"polar\":{\"domain\":{\"x\":[0.0,1.0],\"y\":[0.0,1.0]},\"angularaxis\":{\"direction\":\"clockwise\",\"rotation\":90,\"categoryorder\":\"array\",\"categoryarray\":[\"N\",\"NNE\",\"NE\",\"ENE\",\"E\",\"ESE\",\"SE\",\"SSE\",\"S\",\"SSW\",\"SW\",\"WSW\",\"W\",\"WNW\",\"NW\",\"NNW\"]}},\"legend\":{\"title\":{\"text\":\"speed\"},\"tracegroupgap\":0},\"title\":{\"text\":\"Killbuck OH wind trends\"},\"barmode\":\"relative\"},                        {\"responsive\": true}                    ).then(function(){\n",
       "                            \n",
       "var gd = document.getElementById('b849f5e5-6250-4407-8340-bbe566ddc439');\n",
       "var x = new MutationObserver(function (mutations, observer) {{\n",
       "        var display = window.getComputedStyle(gd).display;\n",
       "        if (!display || display === 'none') {{\n",
       "            console.log([gd, 'removed!']);\n",
       "            Plotly.purge(gd);\n",
       "            observer.disconnect();\n",
       "        }}\n",
       "}});\n",
       "\n",
       "// Listen for the removal of the full notebook cells\n",
       "var notebookContainer = gd.closest('#notebook-container');\n",
       "if (notebookContainer) {{\n",
       "    x.observe(notebookContainer, {childList: true});\n",
       "}}\n",
       "\n",
       "// Listen for the clearing of the current output cell\n",
       "var outputEl = gd.closest('.output');\n",
       "if (outputEl) {{\n",
       "    x.observe(outputEl, {childList: true});\n",
       "}}\n",
       "\n",
       "                        })                };                });            </script>        </div>"
      ]
     },
     "metadata": {},
     "output_type": "display_data"
    }
   ],
   "source": [
    "WR.plot(output_type='show',\n",
    "        out_file = '../images/all_wr_aggrnyl.html',\n",
    "        template='xgridoff', \n",
    "        colors='Aggrnyl', \n",
    "        colors_reversed=True,\n",
    "        title='Killbuck OH wind trends')\n"
   ]
  },
  {
   "cell_type": "code",
   "execution_count": 4,
   "id": "c1483bef",
   "metadata": {},
   "outputs": [
    {
     "name": "stderr",
     "output_type": "stream",
     "text": [
      "/tmp/ipykernel_801/539889531.py:2: SettingWithCopyWarning:\n",
      "\n",
      "\n",
      "A value is trying to be set on a copy of a slice from a DataFrame.\n",
      "Try using .loc[row_indexer,col_indexer] = value instead\n",
      "\n",
      "See the caveats in the documentation: https://pandas.pydata.org/pandas-docs/stable/user_guide/indexing.html#returning-a-view-versus-a-copy\n",
      "\n",
      "/tmp/ipykernel_801/539889531.py:3: SettingWithCopyWarning:\n",
      "\n",
      "\n",
      "A value is trying to be set on a copy of a slice from a DataFrame.\n",
      "Try using .loc[row_indexer,col_indexer] = value instead\n",
      "\n",
      "See the caveats in the documentation: https://pandas.pydata.org/pandas-docs/stable/user_guide/indexing.html#returning-a-view-versus-a-copy\n",
      "\n",
      "/tmp/ipykernel_801/539889531.py:6: SettingWithCopyWarning:\n",
      "\n",
      "\n",
      "A value is trying to be set on a copy of a slice from a DataFrame.\n",
      "Try using .loc[row_indexer,col_indexer] = value instead\n",
      "\n",
      "See the caveats in the documentation: https://pandas.pydata.org/pandas-docs/stable/user_guide/indexing.html#returning-a-view-versus-a-copy\n",
      "\n",
      "/tmp/ipykernel_801/539889531.py:7: SettingWithCopyWarning:\n",
      "\n",
      "\n",
      "A value is trying to be set on a copy of a slice from a DataFrame.\n",
      "Try using .loc[row_indexer,col_indexer] = value instead\n",
      "\n",
      "See the caveats in the documentation: https://pandas.pydata.org/pandas-docs/stable/user_guide/indexing.html#returning-a-view-versus-a-copy\n",
      "\n",
      "/tmp/ipykernel_801/539889531.py:10: SettingWithCopyWarning:\n",
      "\n",
      "\n",
      "A value is trying to be set on a copy of a slice from a DataFrame.\n",
      "Try using .loc[row_indexer,col_indexer] = value instead\n",
      "\n",
      "See the caveats in the documentation: https://pandas.pydata.org/pandas-docs/stable/user_guide/indexing.html#returning-a-view-versus-a-copy\n",
      "\n",
      "/tmp/ipykernel_801/539889531.py:11: SettingWithCopyWarning:\n",
      "\n",
      "\n",
      "A value is trying to be set on a copy of a slice from a DataFrame.\n",
      "Try using .loc[row_indexer,col_indexer] = value instead\n",
      "\n",
      "See the caveats in the documentation: https://pandas.pydata.org/pandas-docs/stable/user_guide/indexing.html#returning-a-view-versus-a-copy\n",
      "\n",
      "/tmp/ipykernel_801/539889531.py:14: SettingWithCopyWarning:\n",
      "\n",
      "\n",
      "A value is trying to be set on a copy of a slice from a DataFrame.\n",
      "Try using .loc[row_indexer,col_indexer] = value instead\n",
      "\n",
      "See the caveats in the documentation: https://pandas.pydata.org/pandas-docs/stable/user_guide/indexing.html#returning-a-view-versus-a-copy\n",
      "\n",
      "/tmp/ipykernel_801/539889531.py:15: SettingWithCopyWarning:\n",
      "\n",
      "\n",
      "A value is trying to be set on a copy of a slice from a DataFrame.\n",
      "Try using .loc[row_indexer,col_indexer] = value instead\n",
      "\n",
      "See the caveats in the documentation: https://pandas.pydata.org/pandas-docs/stable/user_guide/indexing.html#returning-a-view-versus-a-copy\n",
      "\n"
     ]
    }
   ],
   "source": [
    "winter = data[data['month'].isin([1,2,3])]\n",
    "winter['ws'] = winter['wind_speed']\n",
    "winter['wd'] = winter['wind_deg']\n",
    "\n",
    "spring = data[data['month'].isin([4,5,6])]\n",
    "spring['ws'] = spring['wind_speed']\n",
    "spring['wd'] = spring['wind_deg']\n",
    "\n",
    "summer = data[data['month'].isin([7,8,9])]\n",
    "summer['ws'] = summer['wind_speed']\n",
    "summer['wd'] = summer['wind_deg']\n",
    "\n",
    "fall = data[data['month'].isin([10,11,12])]\n",
    "fall['ws'] = fall['wind_speed']\n",
    "fall['wd'] = fall['wind_deg']"
   ]
  },
  {
   "cell_type": "code",
   "execution_count": 30,
   "id": "125654d2",
   "metadata": {},
   "outputs": [
    {
     "data": {
      "application/vnd.plotly.v1+json": {
       "config": {
        "plotlyServerURL": "https://plot.ly"
       },
       "data": [
        {
         "hovertemplate": "speed=-0.02-3.40<br>frequency=%{r}<br>direction=%{theta}<extra></extra>",
         "legendgroup": "-0.02-3.40",
         "marker": {
          "color": "rgb(237, 239, 93)",
          "pattern": {
           "shape": ""
          }
         },
         "name": "-0.02-3.40",
         "r": [
          406,
          386,
          385,
          459,
          416,
          378,
          381,
          470,
          425,
          440,
          418,
          482,
          420,
          458,
          382,
          476,
          480,
          478,
          428,
          470,
          401,
          342,
          338,
          357,
          357,
          329,
          325,
          339,
          275,
          313,
          335,
          378
         ],
         "showlegend": true,
         "subplot": "polar",
         "theta": [
          "N",
          "NNE",
          "NNE",
          "NE",
          "NE",
          "ENE",
          "ENE",
          "E",
          "E",
          "ESE",
          "ESE",
          "SE",
          "SE",
          "SSE",
          "SSE",
          "S",
          "S",
          "SSW",
          "SSW",
          "SW",
          "SW",
          "WSW",
          "WSW",
          "W",
          "W",
          "WNW",
          "WNW",
          "NW",
          "NW",
          "NNW",
          "NNW",
          "N"
         ],
         "type": "barpolar"
        },
        {
         "hovertemplate": "speed=3.40-6.81<br>frequency=%{r}<br>direction=%{theta}<extra></extra>",
         "legendgroup": "3.40-6.81",
         "marker": {
          "color": "rgb(169, 220, 103)",
          "pattern": {
           "shape": ""
          }
         },
         "name": "3.40-6.81",
         "r": [
          1318,
          1464,
          1473,
          1649,
          1359,
          1206,
          1111,
          1098,
          977,
          991,
          948,
          1130,
          1082,
          1218,
          1318,
          1576,
          1673,
          1789,
          1776,
          1857,
          1575,
          1521,
          1487,
          1418,
          1127,
          1122,
          1081,
          1181,
          1045,
          1101,
          1118,
          1252
         ],
         "showlegend": true,
         "subplot": "polar",
         "theta": [
          "N",
          "NNE",
          "NNE",
          "NE",
          "NE",
          "ENE",
          "ENE",
          "E",
          "E",
          "ESE",
          "ESE",
          "SE",
          "SE",
          "SSE",
          "SSE",
          "S",
          "S",
          "SSW",
          "SSW",
          "SW",
          "SW",
          "WSW",
          "WSW",
          "W",
          "W",
          "WNW",
          "WNW",
          "NW",
          "NW",
          "NNW",
          "NNW",
          "N"
         ],
         "type": "barpolar"
        },
        {
         "hovertemplate": "speed=6.81-10.21<br>frequency=%{r}<br>direction=%{theta}<extra></extra>",
         "legendgroup": "6.81-10.21",
         "marker": {
          "color": "rgb(110, 197, 116)",
          "pattern": {
           "shape": ""
          }
         },
         "name": "6.81-10.21",
         "r": [
          886,
          926,
          858,
          776,
          515,
          474,
          453,
          436,
          397,
          384,
          375,
          496,
          484,
          591,
          768,
          1106,
          1379,
          1603,
          1714,
          1932,
          1591,
          1298,
          1047,
          1066,
          983,
          970,
          915,
          928,
          677,
          788,
          735,
          927
         ],
         "showlegend": true,
         "subplot": "polar",
         "theta": [
          "N",
          "NNE",
          "NNE",
          "NE",
          "NE",
          "ENE",
          "ENE",
          "E",
          "E",
          "ESE",
          "ESE",
          "SE",
          "SE",
          "SSE",
          "SSE",
          "S",
          "S",
          "SSW",
          "SSW",
          "SW",
          "SW",
          "WSW",
          "WSW",
          "W",
          "W",
          "WNW",
          "WNW",
          "NW",
          "NW",
          "NNW",
          "NNW",
          "N"
         ],
         "type": "barpolar"
        },
        {
         "hovertemplate": "speed=10.21-13.61<br>frequency=%{r}<br>direction=%{theta}<extra></extra>",
         "legendgroup": "10.21-13.61",
         "marker": {
          "color": "rgb(57, 171, 126)",
          "pattern": {
           "shape": ""
          }
         },
         "name": "10.21-13.61",
         "r": [
          250,
          138,
          96,
          57,
          49,
          42,
          43,
          30,
          55,
          40,
          31,
          56,
          75,
          114,
          176,
          266,
          339,
          494,
          604,
          758,
          626,
          464,
          418,
          438,
          481,
          472,
          388,
          371,
          264,
          224,
          210,
          219
         ],
         "showlegend": true,
         "subplot": "polar",
         "theta": [
          "N",
          "NNE",
          "NNE",
          "NE",
          "NE",
          "ENE",
          "ENE",
          "E",
          "E",
          "ESE",
          "ESE",
          "SE",
          "SE",
          "SSE",
          "SSE",
          "S",
          "S",
          "SSW",
          "SSW",
          "SW",
          "SW",
          "WSW",
          "WSW",
          "W",
          "W",
          "WNW",
          "WNW",
          "NW",
          "NW",
          "NNW",
          "NNW",
          "N"
         ],
         "type": "barpolar"
        },
        {
         "hovertemplate": "speed=13.61-17.01<br>frequency=%{r}<br>direction=%{theta}<extra></extra>",
         "legendgroup": "13.61-17.01",
         "marker": {
          "color": "rgb(13, 143, 129)",
          "pattern": {
           "shape": ""
          }
         },
         "name": "13.61-17.01",
         "r": [
          25,
          12,
          1,
          0,
          1,
          3,
          0,
          0,
          5,
          3,
          6,
          9,
          18,
          14,
          38,
          43,
          41,
          99,
          140,
          157,
          166,
          149,
          173,
          180,
          152,
          137,
          84,
          56,
          52,
          26,
          26,
          32
         ],
         "showlegend": true,
         "subplot": "polar",
         "theta": [
          "N",
          "NNE",
          "NNE",
          "NE",
          "NE",
          "ENE",
          "ENE",
          "E",
          "E",
          "ESE",
          "ESE",
          "SE",
          "SE",
          "SSE",
          "SSE",
          "S",
          "S",
          "SSW",
          "SSW",
          "SW",
          "SW",
          "WSW",
          "WSW",
          "W",
          "W",
          "WNW",
          "WNW",
          "NW",
          "NW",
          "NNW",
          "NNW",
          "N"
         ],
         "type": "barpolar"
        },
        {
         "hovertemplate": "speed=17.01-20.42<br>frequency=%{r}<br>direction=%{theta}<extra></extra>",
         "legendgroup": "17.01-20.42",
         "marker": {
          "color": "rgb(15, 114, 121)",
          "pattern": {
           "shape": ""
          }
         },
         "name": "17.01-20.42",
         "r": [
          3,
          0,
          0,
          0,
          0,
          0,
          0,
          0,
          0,
          0,
          0,
          0,
          0,
          1,
          7,
          7,
          8,
          13,
          19,
          27,
          25,
          39,
          59,
          42,
          46,
          34,
          12,
          4,
          7,
          6,
          9,
          3
         ],
         "showlegend": true,
         "subplot": "polar",
         "theta": [
          "N",
          "NNE",
          "NNE",
          "NE",
          "NE",
          "ENE",
          "ENE",
          "E",
          "E",
          "ESE",
          "ESE",
          "SE",
          "SE",
          "SSE",
          "SSE",
          "S",
          "S",
          "SSW",
          "SSW",
          "SW",
          "SW",
          "WSW",
          "WSW",
          "W",
          "W",
          "WNW",
          "WNW",
          "NW",
          "NW",
          "NNW",
          "NNW",
          "N"
         ],
         "type": "barpolar"
        },
        {
         "hovertemplate": "speed=20.42-23.82<br>frequency=%{r}<br>direction=%{theta}<extra></extra>",
         "legendgroup": "20.42-23.82",
         "marker": {
          "color": "rgb(36, 86, 104)",
          "pattern": {
           "shape": ""
          }
         },
         "name": "20.42-23.82",
         "r": [
          0,
          0,
          0,
          0,
          0,
          0,
          0,
          0,
          0,
          0,
          0,
          0,
          0,
          0,
          0,
          0,
          1,
          0,
          0,
          6,
          5,
          11,
          5,
          3,
          1,
          0,
          0,
          0,
          8,
          0,
          0,
          0
         ],
         "showlegend": true,
         "subplot": "polar",
         "theta": [
          "N",
          "NNE",
          "NNE",
          "NE",
          "NE",
          "ENE",
          "ENE",
          "E",
          "E",
          "ESE",
          "ESE",
          "SE",
          "SE",
          "SSE",
          "SSE",
          "S",
          "S",
          "SSW",
          "SSW",
          "SW",
          "SW",
          "WSW",
          "WSW",
          "W",
          "W",
          "WNW",
          "WNW",
          "NW",
          "NW",
          "NNW",
          "NNW",
          "N"
         ],
         "type": "barpolar"
        }
       ],
       "layout": {
        "barmode": "relative",
        "legend": {
         "title": {
          "text": "speed"
         },
         "tracegroupgap": 0
        },
        "polar": {
         "angularaxis": {
          "categoryarray": [
           "N",
           "NNE",
           "NE",
           "ENE",
           "E",
           "ESE",
           "SE",
           "SSE",
           "S",
           "SSW",
           "SW",
           "WSW",
           "W",
           "WNW",
           "NW",
           "NNW"
          ],
          "categoryorder": "array",
          "direction": "clockwise",
          "rotation": 90
         },
         "domain": {
          "x": [
           0,
           1
          ],
          "y": [
           0,
           1
          ]
         }
        },
        "template": {
         "data": {
          "bar": [
           {
            "error_x": {
             "color": "rgb(36,36,36)"
            },
            "error_y": {
             "color": "rgb(36,36,36)"
            },
            "marker": {
             "line": {
              "color": "rgb(234,234,242)",
              "width": 0.5
             },
             "pattern": {
              "fillmode": "overlay",
              "size": 10,
              "solidity": 0.2
             }
            },
            "type": "bar"
           }
          ],
          "barpolar": [
           {
            "marker": {
             "line": {
              "color": "rgb(234,234,242)",
              "width": 0.5
             },
             "pattern": {
              "fillmode": "overlay",
              "size": 10,
              "solidity": 0.2
             }
            },
            "type": "barpolar"
           }
          ],
          "carpet": [
           {
            "aaxis": {
             "endlinecolor": "rgb(36,36,36)",
             "gridcolor": "white",
             "linecolor": "white",
             "minorgridcolor": "white",
             "startlinecolor": "rgb(36,36,36)"
            },
            "baxis": {
             "endlinecolor": "rgb(36,36,36)",
             "gridcolor": "white",
             "linecolor": "white",
             "minorgridcolor": "white",
             "startlinecolor": "rgb(36,36,36)"
            },
            "type": "carpet"
           }
          ],
          "choropleth": [
           {
            "colorbar": {
             "outlinewidth": 0,
             "tickcolor": "rgb(36,36,36)",
             "ticklen": 8,
             "ticks": "outside",
             "tickwidth": 2
            },
            "type": "choropleth"
           }
          ],
          "contour": [
           {
            "colorbar": {
             "outlinewidth": 0,
             "tickcolor": "rgb(36,36,36)",
             "ticklen": 8,
             "ticks": "outside",
             "tickwidth": 2
            },
            "colorscale": [
             [
              0,
              "rgb(2,4,25)"
             ],
             [
              0.06274509803921569,
              "rgb(24,15,41)"
             ],
             [
              0.12549019607843137,
              "rgb(47,23,57)"
             ],
             [
              0.18823529411764706,
              "rgb(71,28,72)"
             ],
             [
              0.25098039215686274,
              "rgb(97,30,82)"
             ],
             [
              0.3137254901960784,
              "rgb(123,30,89)"
             ],
             [
              0.3764705882352941,
              "rgb(150,27,91)"
             ],
             [
              0.4392156862745098,
              "rgb(177,22,88)"
             ],
             [
              0.5019607843137255,
              "rgb(203,26,79)"
             ],
             [
              0.5647058823529412,
              "rgb(223,47,67)"
             ],
             [
              0.6274509803921569,
              "rgb(236,76,61)"
             ],
             [
              0.6901960784313725,
              "rgb(242,107,73)"
             ],
             [
              0.7529411764705882,
              "rgb(244,135,95)"
             ],
             [
              0.8156862745098039,
              "rgb(245,162,122)"
             ],
             [
              0.8784313725490196,
              "rgb(246,188,153)"
             ],
             [
              0.9411764705882353,
              "rgb(247,212,187)"
             ],
             [
              1,
              "rgb(250,234,220)"
             ]
            ],
            "type": "contour"
           }
          ],
          "contourcarpet": [
           {
            "colorbar": {
             "outlinewidth": 0,
             "tickcolor": "rgb(36,36,36)",
             "ticklen": 8,
             "ticks": "outside",
             "tickwidth": 2
            },
            "type": "contourcarpet"
           }
          ],
          "heatmap": [
           {
            "colorbar": {
             "outlinewidth": 0,
             "tickcolor": "rgb(36,36,36)",
             "ticklen": 8,
             "ticks": "outside",
             "tickwidth": 2
            },
            "colorscale": [
             [
              0,
              "rgb(2,4,25)"
             ],
             [
              0.06274509803921569,
              "rgb(24,15,41)"
             ],
             [
              0.12549019607843137,
              "rgb(47,23,57)"
             ],
             [
              0.18823529411764706,
              "rgb(71,28,72)"
             ],
             [
              0.25098039215686274,
              "rgb(97,30,82)"
             ],
             [
              0.3137254901960784,
              "rgb(123,30,89)"
             ],
             [
              0.3764705882352941,
              "rgb(150,27,91)"
             ],
             [
              0.4392156862745098,
              "rgb(177,22,88)"
             ],
             [
              0.5019607843137255,
              "rgb(203,26,79)"
             ],
             [
              0.5647058823529412,
              "rgb(223,47,67)"
             ],
             [
              0.6274509803921569,
              "rgb(236,76,61)"
             ],
             [
              0.6901960784313725,
              "rgb(242,107,73)"
             ],
             [
              0.7529411764705882,
              "rgb(244,135,95)"
             ],
             [
              0.8156862745098039,
              "rgb(245,162,122)"
             ],
             [
              0.8784313725490196,
              "rgb(246,188,153)"
             ],
             [
              0.9411764705882353,
              "rgb(247,212,187)"
             ],
             [
              1,
              "rgb(250,234,220)"
             ]
            ],
            "type": "heatmap"
           }
          ],
          "heatmapgl": [
           {
            "colorbar": {
             "outlinewidth": 0,
             "tickcolor": "rgb(36,36,36)",
             "ticklen": 8,
             "ticks": "outside",
             "tickwidth": 2
            },
            "colorscale": [
             [
              0,
              "rgb(2,4,25)"
             ],
             [
              0.06274509803921569,
              "rgb(24,15,41)"
             ],
             [
              0.12549019607843137,
              "rgb(47,23,57)"
             ],
             [
              0.18823529411764706,
              "rgb(71,28,72)"
             ],
             [
              0.25098039215686274,
              "rgb(97,30,82)"
             ],
             [
              0.3137254901960784,
              "rgb(123,30,89)"
             ],
             [
              0.3764705882352941,
              "rgb(150,27,91)"
             ],
             [
              0.4392156862745098,
              "rgb(177,22,88)"
             ],
             [
              0.5019607843137255,
              "rgb(203,26,79)"
             ],
             [
              0.5647058823529412,
              "rgb(223,47,67)"
             ],
             [
              0.6274509803921569,
              "rgb(236,76,61)"
             ],
             [
              0.6901960784313725,
              "rgb(242,107,73)"
             ],
             [
              0.7529411764705882,
              "rgb(244,135,95)"
             ],
             [
              0.8156862745098039,
              "rgb(245,162,122)"
             ],
             [
              0.8784313725490196,
              "rgb(246,188,153)"
             ],
             [
              0.9411764705882353,
              "rgb(247,212,187)"
             ],
             [
              1,
              "rgb(250,234,220)"
             ]
            ],
            "type": "heatmapgl"
           }
          ],
          "histogram": [
           {
            "marker": {
             "pattern": {
              "fillmode": "overlay",
              "size": 10,
              "solidity": 0.2
             }
            },
            "type": "histogram"
           }
          ],
          "histogram2d": [
           {
            "colorbar": {
             "outlinewidth": 0,
             "tickcolor": "rgb(36,36,36)",
             "ticklen": 8,
             "ticks": "outside",
             "tickwidth": 2
            },
            "colorscale": [
             [
              0,
              "rgb(2,4,25)"
             ],
             [
              0.06274509803921569,
              "rgb(24,15,41)"
             ],
             [
              0.12549019607843137,
              "rgb(47,23,57)"
             ],
             [
              0.18823529411764706,
              "rgb(71,28,72)"
             ],
             [
              0.25098039215686274,
              "rgb(97,30,82)"
             ],
             [
              0.3137254901960784,
              "rgb(123,30,89)"
             ],
             [
              0.3764705882352941,
              "rgb(150,27,91)"
             ],
             [
              0.4392156862745098,
              "rgb(177,22,88)"
             ],
             [
              0.5019607843137255,
              "rgb(203,26,79)"
             ],
             [
              0.5647058823529412,
              "rgb(223,47,67)"
             ],
             [
              0.6274509803921569,
              "rgb(236,76,61)"
             ],
             [
              0.6901960784313725,
              "rgb(242,107,73)"
             ],
             [
              0.7529411764705882,
              "rgb(244,135,95)"
             ],
             [
              0.8156862745098039,
              "rgb(245,162,122)"
             ],
             [
              0.8784313725490196,
              "rgb(246,188,153)"
             ],
             [
              0.9411764705882353,
              "rgb(247,212,187)"
             ],
             [
              1,
              "rgb(250,234,220)"
             ]
            ],
            "type": "histogram2d"
           }
          ],
          "histogram2dcontour": [
           {
            "colorbar": {
             "outlinewidth": 0,
             "tickcolor": "rgb(36,36,36)",
             "ticklen": 8,
             "ticks": "outside",
             "tickwidth": 2
            },
            "colorscale": [
             [
              0,
              "rgb(2,4,25)"
             ],
             [
              0.06274509803921569,
              "rgb(24,15,41)"
             ],
             [
              0.12549019607843137,
              "rgb(47,23,57)"
             ],
             [
              0.18823529411764706,
              "rgb(71,28,72)"
             ],
             [
              0.25098039215686274,
              "rgb(97,30,82)"
             ],
             [
              0.3137254901960784,
              "rgb(123,30,89)"
             ],
             [
              0.3764705882352941,
              "rgb(150,27,91)"
             ],
             [
              0.4392156862745098,
              "rgb(177,22,88)"
             ],
             [
              0.5019607843137255,
              "rgb(203,26,79)"
             ],
             [
              0.5647058823529412,
              "rgb(223,47,67)"
             ],
             [
              0.6274509803921569,
              "rgb(236,76,61)"
             ],
             [
              0.6901960784313725,
              "rgb(242,107,73)"
             ],
             [
              0.7529411764705882,
              "rgb(244,135,95)"
             ],
             [
              0.8156862745098039,
              "rgb(245,162,122)"
             ],
             [
              0.8784313725490196,
              "rgb(246,188,153)"
             ],
             [
              0.9411764705882353,
              "rgb(247,212,187)"
             ],
             [
              1,
              "rgb(250,234,220)"
             ]
            ],
            "type": "histogram2dcontour"
           }
          ],
          "mesh3d": [
           {
            "colorbar": {
             "outlinewidth": 0,
             "tickcolor": "rgb(36,36,36)",
             "ticklen": 8,
             "ticks": "outside",
             "tickwidth": 2
            },
            "type": "mesh3d"
           }
          ],
          "parcoords": [
           {
            "line": {
             "colorbar": {
              "outlinewidth": 0,
              "tickcolor": "rgb(36,36,36)",
              "ticklen": 8,
              "ticks": "outside",
              "tickwidth": 2
             }
            },
            "type": "parcoords"
           }
          ],
          "pie": [
           {
            "automargin": true,
            "type": "pie"
           }
          ],
          "scatter": [
           {
            "fillpattern": {
             "fillmode": "overlay",
             "size": 10,
             "solidity": 0.2
            },
            "type": "scatter"
           }
          ],
          "scatter3d": [
           {
            "line": {
             "colorbar": {
              "outlinewidth": 0,
              "tickcolor": "rgb(36,36,36)",
              "ticklen": 8,
              "ticks": "outside",
              "tickwidth": 2
             }
            },
            "marker": {
             "colorbar": {
              "outlinewidth": 0,
              "tickcolor": "rgb(36,36,36)",
              "ticklen": 8,
              "ticks": "outside",
              "tickwidth": 2
             }
            },
            "type": "scatter3d"
           }
          ],
          "scattercarpet": [
           {
            "marker": {
             "colorbar": {
              "outlinewidth": 0,
              "tickcolor": "rgb(36,36,36)",
              "ticklen": 8,
              "ticks": "outside",
              "tickwidth": 2
             }
            },
            "type": "scattercarpet"
           }
          ],
          "scattergeo": [
           {
            "marker": {
             "colorbar": {
              "outlinewidth": 0,
              "tickcolor": "rgb(36,36,36)",
              "ticklen": 8,
              "ticks": "outside",
              "tickwidth": 2
             }
            },
            "type": "scattergeo"
           }
          ],
          "scattergl": [
           {
            "marker": {
             "colorbar": {
              "outlinewidth": 0,
              "tickcolor": "rgb(36,36,36)",
              "ticklen": 8,
              "ticks": "outside",
              "tickwidth": 2
             }
            },
            "type": "scattergl"
           }
          ],
          "scattermapbox": [
           {
            "marker": {
             "colorbar": {
              "outlinewidth": 0,
              "tickcolor": "rgb(36,36,36)",
              "ticklen": 8,
              "ticks": "outside",
              "tickwidth": 2
             }
            },
            "type": "scattermapbox"
           }
          ],
          "scatterpolar": [
           {
            "marker": {
             "colorbar": {
              "outlinewidth": 0,
              "tickcolor": "rgb(36,36,36)",
              "ticklen": 8,
              "ticks": "outside",
              "tickwidth": 2
             }
            },
            "type": "scatterpolar"
           }
          ],
          "scatterpolargl": [
           {
            "marker": {
             "colorbar": {
              "outlinewidth": 0,
              "tickcolor": "rgb(36,36,36)",
              "ticklen": 8,
              "ticks": "outside",
              "tickwidth": 2
             }
            },
            "type": "scatterpolargl"
           }
          ],
          "scatterternary": [
           {
            "marker": {
             "colorbar": {
              "outlinewidth": 0,
              "tickcolor": "rgb(36,36,36)",
              "ticklen": 8,
              "ticks": "outside",
              "tickwidth": 2
             }
            },
            "type": "scatterternary"
           }
          ],
          "surface": [
           {
            "colorbar": {
             "outlinewidth": 0,
             "tickcolor": "rgb(36,36,36)",
             "ticklen": 8,
             "ticks": "outside",
             "tickwidth": 2
            },
            "colorscale": [
             [
              0,
              "rgb(2,4,25)"
             ],
             [
              0.06274509803921569,
              "rgb(24,15,41)"
             ],
             [
              0.12549019607843137,
              "rgb(47,23,57)"
             ],
             [
              0.18823529411764706,
              "rgb(71,28,72)"
             ],
             [
              0.25098039215686274,
              "rgb(97,30,82)"
             ],
             [
              0.3137254901960784,
              "rgb(123,30,89)"
             ],
             [
              0.3764705882352941,
              "rgb(150,27,91)"
             ],
             [
              0.4392156862745098,
              "rgb(177,22,88)"
             ],
             [
              0.5019607843137255,
              "rgb(203,26,79)"
             ],
             [
              0.5647058823529412,
              "rgb(223,47,67)"
             ],
             [
              0.6274509803921569,
              "rgb(236,76,61)"
             ],
             [
              0.6901960784313725,
              "rgb(242,107,73)"
             ],
             [
              0.7529411764705882,
              "rgb(244,135,95)"
             ],
             [
              0.8156862745098039,
              "rgb(245,162,122)"
             ],
             [
              0.8784313725490196,
              "rgb(246,188,153)"
             ],
             [
              0.9411764705882353,
              "rgb(247,212,187)"
             ],
             [
              1,
              "rgb(250,234,220)"
             ]
            ],
            "type": "surface"
           }
          ],
          "table": [
           {
            "cells": {
             "fill": {
              "color": "rgb(231,231,240)"
             },
             "line": {
              "color": "white"
             }
            },
            "header": {
             "fill": {
              "color": "rgb(183,183,191)"
             },
             "line": {
              "color": "white"
             }
            },
            "type": "table"
           }
          ]
         },
         "layout": {
          "annotationdefaults": {
           "arrowcolor": "rgb(67,103,167)"
          },
          "autotypenumbers": "strict",
          "coloraxis": {
           "colorbar": {
            "outlinewidth": 0,
            "tickcolor": "rgb(36,36,36)",
            "ticklen": 8,
            "ticks": "outside",
            "tickwidth": 2
           }
          },
          "colorscale": {
           "sequential": [
            [
             0,
             "rgb(2,4,25)"
            ],
            [
             0.06274509803921569,
             "rgb(24,15,41)"
            ],
            [
             0.12549019607843137,
             "rgb(47,23,57)"
            ],
            [
             0.18823529411764706,
             "rgb(71,28,72)"
            ],
            [
             0.25098039215686274,
             "rgb(97,30,82)"
            ],
            [
             0.3137254901960784,
             "rgb(123,30,89)"
            ],
            [
             0.3764705882352941,
             "rgb(150,27,91)"
            ],
            [
             0.4392156862745098,
             "rgb(177,22,88)"
            ],
            [
             0.5019607843137255,
             "rgb(203,26,79)"
            ],
            [
             0.5647058823529412,
             "rgb(223,47,67)"
            ],
            [
             0.6274509803921569,
             "rgb(236,76,61)"
            ],
            [
             0.6901960784313725,
             "rgb(242,107,73)"
            ],
            [
             0.7529411764705882,
             "rgb(244,135,95)"
            ],
            [
             0.8156862745098039,
             "rgb(245,162,122)"
            ],
            [
             0.8784313725490196,
             "rgb(246,188,153)"
            ],
            [
             0.9411764705882353,
             "rgb(247,212,187)"
            ],
            [
             1,
             "rgb(250,234,220)"
            ]
           ],
           "sequentialminus": [
            [
             0,
             "rgb(2,4,25)"
            ],
            [
             0.06274509803921569,
             "rgb(24,15,41)"
            ],
            [
             0.12549019607843137,
             "rgb(47,23,57)"
            ],
            [
             0.18823529411764706,
             "rgb(71,28,72)"
            ],
            [
             0.25098039215686274,
             "rgb(97,30,82)"
            ],
            [
             0.3137254901960784,
             "rgb(123,30,89)"
            ],
            [
             0.3764705882352941,
             "rgb(150,27,91)"
            ],
            [
             0.4392156862745098,
             "rgb(177,22,88)"
            ],
            [
             0.5019607843137255,
             "rgb(203,26,79)"
            ],
            [
             0.5647058823529412,
             "rgb(223,47,67)"
            ],
            [
             0.6274509803921569,
             "rgb(236,76,61)"
            ],
            [
             0.6901960784313725,
             "rgb(242,107,73)"
            ],
            [
             0.7529411764705882,
             "rgb(244,135,95)"
            ],
            [
             0.8156862745098039,
             "rgb(245,162,122)"
            ],
            [
             0.8784313725490196,
             "rgb(246,188,153)"
            ],
            [
             0.9411764705882353,
             "rgb(247,212,187)"
            ],
            [
             1,
             "rgb(250,234,220)"
            ]
           ]
          },
          "colorway": [
           "rgb(76,114,176)",
           "rgb(221,132,82)",
           "rgb(85,168,104)",
           "rgb(196,78,82)",
           "rgb(129,114,179)",
           "rgb(147,120,96)",
           "rgb(218,139,195)",
           "rgb(140,140,140)",
           "rgb(204,185,116)",
           "rgb(100,181,205)"
          ],
          "font": {
           "color": "rgb(36,36,36)"
          },
          "geo": {
           "bgcolor": "white",
           "lakecolor": "white",
           "landcolor": "rgb(234,234,242)",
           "showlakes": true,
           "showland": true,
           "subunitcolor": "white"
          },
          "hoverlabel": {
           "align": "left"
          },
          "hovermode": "closest",
          "paper_bgcolor": "white",
          "plot_bgcolor": "rgb(234,234,242)",
          "polar": {
           "angularaxis": {
            "gridcolor": "white",
            "linecolor": "white",
            "showgrid": true,
            "ticks": ""
           },
           "bgcolor": "rgb(234,234,242)",
           "radialaxis": {
            "gridcolor": "white",
            "linecolor": "white",
            "showgrid": true,
            "ticks": ""
           }
          },
          "scene": {
           "xaxis": {
            "backgroundcolor": "rgb(234,234,242)",
            "gridcolor": "white",
            "gridwidth": 2,
            "linecolor": "white",
            "showbackground": true,
            "showgrid": true,
            "ticks": "",
            "zerolinecolor": "white"
           },
           "yaxis": {
            "backgroundcolor": "rgb(234,234,242)",
            "gridcolor": "white",
            "gridwidth": 2,
            "linecolor": "white",
            "showbackground": true,
            "showgrid": true,
            "ticks": "",
            "zerolinecolor": "white"
           },
           "zaxis": {
            "backgroundcolor": "rgb(234,234,242)",
            "gridcolor": "white",
            "gridwidth": 2,
            "linecolor": "white",
            "showbackground": true,
            "showgrid": true,
            "ticks": "",
            "zerolinecolor": "white"
           }
          },
          "shapedefaults": {
           "fillcolor": "rgb(67,103,167)",
           "line": {
            "width": 0
           },
           "opacity": 0.5
          },
          "ternary": {
           "aaxis": {
            "gridcolor": "white",
            "linecolor": "white",
            "showgrid": true,
            "ticks": ""
           },
           "baxis": {
            "gridcolor": "white",
            "linecolor": "white",
            "showgrid": true,
            "ticks": ""
           },
           "bgcolor": "rgb(234,234,242)",
           "caxis": {
            "gridcolor": "white",
            "linecolor": "white",
            "showgrid": true,
            "ticks": ""
           }
          },
          "xaxis": {
           "automargin": true,
           "gridcolor": "white",
           "linecolor": "white",
           "showgrid": true,
           "ticks": "",
           "title": {
            "standoff": 15
           },
           "zerolinecolor": "white"
          },
          "yaxis": {
           "automargin": true,
           "gridcolor": "white",
           "linecolor": "white",
           "showgrid": true,
           "ticks": "",
           "title": {
            "standoff": 15
           },
           "zerolinecolor": "white"
          }
         }
        },
        "title": {
         "text": "Spring Wind"
        }
       }
      },
      "text/html": [
       "<div>                            <div id=\"96a1fc41-b5af-43d2-b6bb-9afe5b72ed70\" class=\"plotly-graph-div\" style=\"height:525px; width:100%;\"></div>            <script type=\"text/javascript\">                require([\"plotly\"], function(Plotly) {                    window.PLOTLYENV=window.PLOTLYENV || {};                                    if (document.getElementById(\"96a1fc41-b5af-43d2-b6bb-9afe5b72ed70\")) {                    Plotly.newPlot(                        \"96a1fc41-b5af-43d2-b6bb-9afe5b72ed70\",                        [{\"hovertemplate\":\"speed=-0.02-3.40<br>frequency=%{r}<br>direction=%{theta}<extra></extra>\",\"legendgroup\":\"-0.02-3.40\",\"marker\":{\"color\":\"rgb(237, 239, 93)\",\"pattern\":{\"shape\":\"\"}},\"name\":\"-0.02-3.40\",\"r\":[406,386,385,459,416,378,381,470,425,440,418,482,420,458,382,476,480,478,428,470,401,342,338,357,357,329,325,339,275,313,335,378],\"showlegend\":true,\"subplot\":\"polar\",\"theta\":[\"N\",\"NNE\",\"NNE\",\"NE\",\"NE\",\"ENE\",\"ENE\",\"E\",\"E\",\"ESE\",\"ESE\",\"SE\",\"SE\",\"SSE\",\"SSE\",\"S\",\"S\",\"SSW\",\"SSW\",\"SW\",\"SW\",\"WSW\",\"WSW\",\"W\",\"W\",\"WNW\",\"WNW\",\"NW\",\"NW\",\"NNW\",\"NNW\",\"N\"],\"type\":\"barpolar\"},{\"hovertemplate\":\"speed=3.40-6.81<br>frequency=%{r}<br>direction=%{theta}<extra></extra>\",\"legendgroup\":\"3.40-6.81\",\"marker\":{\"color\":\"rgb(169, 220, 103)\",\"pattern\":{\"shape\":\"\"}},\"name\":\"3.40-6.81\",\"r\":[1318,1464,1473,1649,1359,1206,1111,1098,977,991,948,1130,1082,1218,1318,1576,1673,1789,1776,1857,1575,1521,1487,1418,1127,1122,1081,1181,1045,1101,1118,1252],\"showlegend\":true,\"subplot\":\"polar\",\"theta\":[\"N\",\"NNE\",\"NNE\",\"NE\",\"NE\",\"ENE\",\"ENE\",\"E\",\"E\",\"ESE\",\"ESE\",\"SE\",\"SE\",\"SSE\",\"SSE\",\"S\",\"S\",\"SSW\",\"SSW\",\"SW\",\"SW\",\"WSW\",\"WSW\",\"W\",\"W\",\"WNW\",\"WNW\",\"NW\",\"NW\",\"NNW\",\"NNW\",\"N\"],\"type\":\"barpolar\"},{\"hovertemplate\":\"speed=6.81-10.21<br>frequency=%{r}<br>direction=%{theta}<extra></extra>\",\"legendgroup\":\"6.81-10.21\",\"marker\":{\"color\":\"rgb(110, 197, 116)\",\"pattern\":{\"shape\":\"\"}},\"name\":\"6.81-10.21\",\"r\":[886,926,858,776,515,474,453,436,397,384,375,496,484,591,768,1106,1379,1603,1714,1932,1591,1298,1047,1066,983,970,915,928,677,788,735,927],\"showlegend\":true,\"subplot\":\"polar\",\"theta\":[\"N\",\"NNE\",\"NNE\",\"NE\",\"NE\",\"ENE\",\"ENE\",\"E\",\"E\",\"ESE\",\"ESE\",\"SE\",\"SE\",\"SSE\",\"SSE\",\"S\",\"S\",\"SSW\",\"SSW\",\"SW\",\"SW\",\"WSW\",\"WSW\",\"W\",\"W\",\"WNW\",\"WNW\",\"NW\",\"NW\",\"NNW\",\"NNW\",\"N\"],\"type\":\"barpolar\"},{\"hovertemplate\":\"speed=10.21-13.61<br>frequency=%{r}<br>direction=%{theta}<extra></extra>\",\"legendgroup\":\"10.21-13.61\",\"marker\":{\"color\":\"rgb(57, 171, 126)\",\"pattern\":{\"shape\":\"\"}},\"name\":\"10.21-13.61\",\"r\":[250,138,96,57,49,42,43,30,55,40,31,56,75,114,176,266,339,494,604,758,626,464,418,438,481,472,388,371,264,224,210,219],\"showlegend\":true,\"subplot\":\"polar\",\"theta\":[\"N\",\"NNE\",\"NNE\",\"NE\",\"NE\",\"ENE\",\"ENE\",\"E\",\"E\",\"ESE\",\"ESE\",\"SE\",\"SE\",\"SSE\",\"SSE\",\"S\",\"S\",\"SSW\",\"SSW\",\"SW\",\"SW\",\"WSW\",\"WSW\",\"W\",\"W\",\"WNW\",\"WNW\",\"NW\",\"NW\",\"NNW\",\"NNW\",\"N\"],\"type\":\"barpolar\"},{\"hovertemplate\":\"speed=13.61-17.01<br>frequency=%{r}<br>direction=%{theta}<extra></extra>\",\"legendgroup\":\"13.61-17.01\",\"marker\":{\"color\":\"rgb(13, 143, 129)\",\"pattern\":{\"shape\":\"\"}},\"name\":\"13.61-17.01\",\"r\":[25,12,1,0,1,3,0,0,5,3,6,9,18,14,38,43,41,99,140,157,166,149,173,180,152,137,84,56,52,26,26,32],\"showlegend\":true,\"subplot\":\"polar\",\"theta\":[\"N\",\"NNE\",\"NNE\",\"NE\",\"NE\",\"ENE\",\"ENE\",\"E\",\"E\",\"ESE\",\"ESE\",\"SE\",\"SE\",\"SSE\",\"SSE\",\"S\",\"S\",\"SSW\",\"SSW\",\"SW\",\"SW\",\"WSW\",\"WSW\",\"W\",\"W\",\"WNW\",\"WNW\",\"NW\",\"NW\",\"NNW\",\"NNW\",\"N\"],\"type\":\"barpolar\"},{\"hovertemplate\":\"speed=17.01-20.42<br>frequency=%{r}<br>direction=%{theta}<extra></extra>\",\"legendgroup\":\"17.01-20.42\",\"marker\":{\"color\":\"rgb(15, 114, 121)\",\"pattern\":{\"shape\":\"\"}},\"name\":\"17.01-20.42\",\"r\":[3,0,0,0,0,0,0,0,0,0,0,0,0,1,7,7,8,13,19,27,25,39,59,42,46,34,12,4,7,6,9,3],\"showlegend\":true,\"subplot\":\"polar\",\"theta\":[\"N\",\"NNE\",\"NNE\",\"NE\",\"NE\",\"ENE\",\"ENE\",\"E\",\"E\",\"ESE\",\"ESE\",\"SE\",\"SE\",\"SSE\",\"SSE\",\"S\",\"S\",\"SSW\",\"SSW\",\"SW\",\"SW\",\"WSW\",\"WSW\",\"W\",\"W\",\"WNW\",\"WNW\",\"NW\",\"NW\",\"NNW\",\"NNW\",\"N\"],\"type\":\"barpolar\"},{\"hovertemplate\":\"speed=20.42-23.82<br>frequency=%{r}<br>direction=%{theta}<extra></extra>\",\"legendgroup\":\"20.42-23.82\",\"marker\":{\"color\":\"rgb(36, 86, 104)\",\"pattern\":{\"shape\":\"\"}},\"name\":\"20.42-23.82\",\"r\":[0,0,0,0,0,0,0,0,0,0,0,0,0,0,0,0,1,0,0,6,5,11,5,3,1,0,0,0,8,0,0,0],\"showlegend\":true,\"subplot\":\"polar\",\"theta\":[\"N\",\"NNE\",\"NNE\",\"NE\",\"NE\",\"ENE\",\"ENE\",\"E\",\"E\",\"ESE\",\"ESE\",\"SE\",\"SE\",\"SSE\",\"SSE\",\"S\",\"S\",\"SSW\",\"SSW\",\"SW\",\"SW\",\"WSW\",\"WSW\",\"W\",\"W\",\"WNW\",\"WNW\",\"NW\",\"NW\",\"NNW\",\"NNW\",\"N\"],\"type\":\"barpolar\"}],                        {\"template\":{\"data\":{\"barpolar\":[{\"marker\":{\"line\":{\"color\":\"rgb(234,234,242)\",\"width\":0.5},\"pattern\":{\"fillmode\":\"overlay\",\"size\":10,\"solidity\":0.2}},\"type\":\"barpolar\"}],\"bar\":[{\"error_x\":{\"color\":\"rgb(36,36,36)\"},\"error_y\":{\"color\":\"rgb(36,36,36)\"},\"marker\":{\"line\":{\"color\":\"rgb(234,234,242)\",\"width\":0.5},\"pattern\":{\"fillmode\":\"overlay\",\"size\":10,\"solidity\":0.2}},\"type\":\"bar\"}],\"carpet\":[{\"aaxis\":{\"endlinecolor\":\"rgb(36,36,36)\",\"gridcolor\":\"white\",\"linecolor\":\"white\",\"minorgridcolor\":\"white\",\"startlinecolor\":\"rgb(36,36,36)\"},\"baxis\":{\"endlinecolor\":\"rgb(36,36,36)\",\"gridcolor\":\"white\",\"linecolor\":\"white\",\"minorgridcolor\":\"white\",\"startlinecolor\":\"rgb(36,36,36)\"},\"type\":\"carpet\"}],\"choropleth\":[{\"colorbar\":{\"outlinewidth\":0,\"tickcolor\":\"rgb(36,36,36)\",\"ticklen\":8,\"ticks\":\"outside\",\"tickwidth\":2},\"type\":\"choropleth\"}],\"contourcarpet\":[{\"colorbar\":{\"outlinewidth\":0,\"tickcolor\":\"rgb(36,36,36)\",\"ticklen\":8,\"ticks\":\"outside\",\"tickwidth\":2},\"type\":\"contourcarpet\"}],\"contour\":[{\"colorbar\":{\"outlinewidth\":0,\"tickcolor\":\"rgb(36,36,36)\",\"ticklen\":8,\"ticks\":\"outside\",\"tickwidth\":2},\"colorscale\":[[0.0,\"rgb(2,4,25)\"],[0.06274509803921569,\"rgb(24,15,41)\"],[0.12549019607843137,\"rgb(47,23,57)\"],[0.18823529411764706,\"rgb(71,28,72)\"],[0.25098039215686274,\"rgb(97,30,82)\"],[0.3137254901960784,\"rgb(123,30,89)\"],[0.3764705882352941,\"rgb(150,27,91)\"],[0.4392156862745098,\"rgb(177,22,88)\"],[0.5019607843137255,\"rgb(203,26,79)\"],[0.5647058823529412,\"rgb(223,47,67)\"],[0.6274509803921569,\"rgb(236,76,61)\"],[0.6901960784313725,\"rgb(242,107,73)\"],[0.7529411764705882,\"rgb(244,135,95)\"],[0.8156862745098039,\"rgb(245,162,122)\"],[0.8784313725490196,\"rgb(246,188,153)\"],[0.9411764705882353,\"rgb(247,212,187)\"],[1.0,\"rgb(250,234,220)\"]],\"type\":\"contour\"}],\"heatmapgl\":[{\"colorbar\":{\"outlinewidth\":0,\"tickcolor\":\"rgb(36,36,36)\",\"ticklen\":8,\"ticks\":\"outside\",\"tickwidth\":2},\"colorscale\":[[0.0,\"rgb(2,4,25)\"],[0.06274509803921569,\"rgb(24,15,41)\"],[0.12549019607843137,\"rgb(47,23,57)\"],[0.18823529411764706,\"rgb(71,28,72)\"],[0.25098039215686274,\"rgb(97,30,82)\"],[0.3137254901960784,\"rgb(123,30,89)\"],[0.3764705882352941,\"rgb(150,27,91)\"],[0.4392156862745098,\"rgb(177,22,88)\"],[0.5019607843137255,\"rgb(203,26,79)\"],[0.5647058823529412,\"rgb(223,47,67)\"],[0.6274509803921569,\"rgb(236,76,61)\"],[0.6901960784313725,\"rgb(242,107,73)\"],[0.7529411764705882,\"rgb(244,135,95)\"],[0.8156862745098039,\"rgb(245,162,122)\"],[0.8784313725490196,\"rgb(246,188,153)\"],[0.9411764705882353,\"rgb(247,212,187)\"],[1.0,\"rgb(250,234,220)\"]],\"type\":\"heatmapgl\"}],\"heatmap\":[{\"colorbar\":{\"outlinewidth\":0,\"tickcolor\":\"rgb(36,36,36)\",\"ticklen\":8,\"ticks\":\"outside\",\"tickwidth\":2},\"colorscale\":[[0.0,\"rgb(2,4,25)\"],[0.06274509803921569,\"rgb(24,15,41)\"],[0.12549019607843137,\"rgb(47,23,57)\"],[0.18823529411764706,\"rgb(71,28,72)\"],[0.25098039215686274,\"rgb(97,30,82)\"],[0.3137254901960784,\"rgb(123,30,89)\"],[0.3764705882352941,\"rgb(150,27,91)\"],[0.4392156862745098,\"rgb(177,22,88)\"],[0.5019607843137255,\"rgb(203,26,79)\"],[0.5647058823529412,\"rgb(223,47,67)\"],[0.6274509803921569,\"rgb(236,76,61)\"],[0.6901960784313725,\"rgb(242,107,73)\"],[0.7529411764705882,\"rgb(244,135,95)\"],[0.8156862745098039,\"rgb(245,162,122)\"],[0.8784313725490196,\"rgb(246,188,153)\"],[0.9411764705882353,\"rgb(247,212,187)\"],[1.0,\"rgb(250,234,220)\"]],\"type\":\"heatmap\"}],\"histogram2dcontour\":[{\"colorbar\":{\"outlinewidth\":0,\"tickcolor\":\"rgb(36,36,36)\",\"ticklen\":8,\"ticks\":\"outside\",\"tickwidth\":2},\"colorscale\":[[0.0,\"rgb(2,4,25)\"],[0.06274509803921569,\"rgb(24,15,41)\"],[0.12549019607843137,\"rgb(47,23,57)\"],[0.18823529411764706,\"rgb(71,28,72)\"],[0.25098039215686274,\"rgb(97,30,82)\"],[0.3137254901960784,\"rgb(123,30,89)\"],[0.3764705882352941,\"rgb(150,27,91)\"],[0.4392156862745098,\"rgb(177,22,88)\"],[0.5019607843137255,\"rgb(203,26,79)\"],[0.5647058823529412,\"rgb(223,47,67)\"],[0.6274509803921569,\"rgb(236,76,61)\"],[0.6901960784313725,\"rgb(242,107,73)\"],[0.7529411764705882,\"rgb(244,135,95)\"],[0.8156862745098039,\"rgb(245,162,122)\"],[0.8784313725490196,\"rgb(246,188,153)\"],[0.9411764705882353,\"rgb(247,212,187)\"],[1.0,\"rgb(250,234,220)\"]],\"type\":\"histogram2dcontour\"}],\"histogram2d\":[{\"colorbar\":{\"outlinewidth\":0,\"tickcolor\":\"rgb(36,36,36)\",\"ticklen\":8,\"ticks\":\"outside\",\"tickwidth\":2},\"colorscale\":[[0.0,\"rgb(2,4,25)\"],[0.06274509803921569,\"rgb(24,15,41)\"],[0.12549019607843137,\"rgb(47,23,57)\"],[0.18823529411764706,\"rgb(71,28,72)\"],[0.25098039215686274,\"rgb(97,30,82)\"],[0.3137254901960784,\"rgb(123,30,89)\"],[0.3764705882352941,\"rgb(150,27,91)\"],[0.4392156862745098,\"rgb(177,22,88)\"],[0.5019607843137255,\"rgb(203,26,79)\"],[0.5647058823529412,\"rgb(223,47,67)\"],[0.6274509803921569,\"rgb(236,76,61)\"],[0.6901960784313725,\"rgb(242,107,73)\"],[0.7529411764705882,\"rgb(244,135,95)\"],[0.8156862745098039,\"rgb(245,162,122)\"],[0.8784313725490196,\"rgb(246,188,153)\"],[0.9411764705882353,\"rgb(247,212,187)\"],[1.0,\"rgb(250,234,220)\"]],\"type\":\"histogram2d\"}],\"histogram\":[{\"marker\":{\"pattern\":{\"fillmode\":\"overlay\",\"size\":10,\"solidity\":0.2}},\"type\":\"histogram\"}],\"mesh3d\":[{\"colorbar\":{\"outlinewidth\":0,\"tickcolor\":\"rgb(36,36,36)\",\"ticklen\":8,\"ticks\":\"outside\",\"tickwidth\":2},\"type\":\"mesh3d\"}],\"parcoords\":[{\"line\":{\"colorbar\":{\"outlinewidth\":0,\"tickcolor\":\"rgb(36,36,36)\",\"ticklen\":8,\"ticks\":\"outside\",\"tickwidth\":2}},\"type\":\"parcoords\"}],\"pie\":[{\"automargin\":true,\"type\":\"pie\"}],\"scatter3d\":[{\"line\":{\"colorbar\":{\"outlinewidth\":0,\"tickcolor\":\"rgb(36,36,36)\",\"ticklen\":8,\"ticks\":\"outside\",\"tickwidth\":2}},\"marker\":{\"colorbar\":{\"outlinewidth\":0,\"tickcolor\":\"rgb(36,36,36)\",\"ticklen\":8,\"ticks\":\"outside\",\"tickwidth\":2}},\"type\":\"scatter3d\"}],\"scattercarpet\":[{\"marker\":{\"colorbar\":{\"outlinewidth\":0,\"tickcolor\":\"rgb(36,36,36)\",\"ticklen\":8,\"ticks\":\"outside\",\"tickwidth\":2}},\"type\":\"scattercarpet\"}],\"scattergeo\":[{\"marker\":{\"colorbar\":{\"outlinewidth\":0,\"tickcolor\":\"rgb(36,36,36)\",\"ticklen\":8,\"ticks\":\"outside\",\"tickwidth\":2}},\"type\":\"scattergeo\"}],\"scattergl\":[{\"marker\":{\"colorbar\":{\"outlinewidth\":0,\"tickcolor\":\"rgb(36,36,36)\",\"ticklen\":8,\"ticks\":\"outside\",\"tickwidth\":2}},\"type\":\"scattergl\"}],\"scattermapbox\":[{\"marker\":{\"colorbar\":{\"outlinewidth\":0,\"tickcolor\":\"rgb(36,36,36)\",\"ticklen\":8,\"ticks\":\"outside\",\"tickwidth\":2}},\"type\":\"scattermapbox\"}],\"scatterpolargl\":[{\"marker\":{\"colorbar\":{\"outlinewidth\":0,\"tickcolor\":\"rgb(36,36,36)\",\"ticklen\":8,\"ticks\":\"outside\",\"tickwidth\":2}},\"type\":\"scatterpolargl\"}],\"scatterpolar\":[{\"marker\":{\"colorbar\":{\"outlinewidth\":0,\"tickcolor\":\"rgb(36,36,36)\",\"ticklen\":8,\"ticks\":\"outside\",\"tickwidth\":2}},\"type\":\"scatterpolar\"}],\"scatter\":[{\"fillpattern\":{\"fillmode\":\"overlay\",\"size\":10,\"solidity\":0.2},\"type\":\"scatter\"}],\"scatterternary\":[{\"marker\":{\"colorbar\":{\"outlinewidth\":0,\"tickcolor\":\"rgb(36,36,36)\",\"ticklen\":8,\"ticks\":\"outside\",\"tickwidth\":2}},\"type\":\"scatterternary\"}],\"surface\":[{\"colorbar\":{\"outlinewidth\":0,\"tickcolor\":\"rgb(36,36,36)\",\"ticklen\":8,\"ticks\":\"outside\",\"tickwidth\":2},\"colorscale\":[[0.0,\"rgb(2,4,25)\"],[0.06274509803921569,\"rgb(24,15,41)\"],[0.12549019607843137,\"rgb(47,23,57)\"],[0.18823529411764706,\"rgb(71,28,72)\"],[0.25098039215686274,\"rgb(97,30,82)\"],[0.3137254901960784,\"rgb(123,30,89)\"],[0.3764705882352941,\"rgb(150,27,91)\"],[0.4392156862745098,\"rgb(177,22,88)\"],[0.5019607843137255,\"rgb(203,26,79)\"],[0.5647058823529412,\"rgb(223,47,67)\"],[0.6274509803921569,\"rgb(236,76,61)\"],[0.6901960784313725,\"rgb(242,107,73)\"],[0.7529411764705882,\"rgb(244,135,95)\"],[0.8156862745098039,\"rgb(245,162,122)\"],[0.8784313725490196,\"rgb(246,188,153)\"],[0.9411764705882353,\"rgb(247,212,187)\"],[1.0,\"rgb(250,234,220)\"]],\"type\":\"surface\"}],\"table\":[{\"cells\":{\"fill\":{\"color\":\"rgb(231,231,240)\"},\"line\":{\"color\":\"white\"}},\"header\":{\"fill\":{\"color\":\"rgb(183,183,191)\"},\"line\":{\"color\":\"white\"}},\"type\":\"table\"}]},\"layout\":{\"annotationdefaults\":{\"arrowcolor\":\"rgb(67,103,167)\"},\"autotypenumbers\":\"strict\",\"coloraxis\":{\"colorbar\":{\"outlinewidth\":0,\"tickcolor\":\"rgb(36,36,36)\",\"ticklen\":8,\"ticks\":\"outside\",\"tickwidth\":2}},\"colorscale\":{\"sequential\":[[0.0,\"rgb(2,4,25)\"],[0.06274509803921569,\"rgb(24,15,41)\"],[0.12549019607843137,\"rgb(47,23,57)\"],[0.18823529411764706,\"rgb(71,28,72)\"],[0.25098039215686274,\"rgb(97,30,82)\"],[0.3137254901960784,\"rgb(123,30,89)\"],[0.3764705882352941,\"rgb(150,27,91)\"],[0.4392156862745098,\"rgb(177,22,88)\"],[0.5019607843137255,\"rgb(203,26,79)\"],[0.5647058823529412,\"rgb(223,47,67)\"],[0.6274509803921569,\"rgb(236,76,61)\"],[0.6901960784313725,\"rgb(242,107,73)\"],[0.7529411764705882,\"rgb(244,135,95)\"],[0.8156862745098039,\"rgb(245,162,122)\"],[0.8784313725490196,\"rgb(246,188,153)\"],[0.9411764705882353,\"rgb(247,212,187)\"],[1.0,\"rgb(250,234,220)\"]],\"sequentialminus\":[[0.0,\"rgb(2,4,25)\"],[0.06274509803921569,\"rgb(24,15,41)\"],[0.12549019607843137,\"rgb(47,23,57)\"],[0.18823529411764706,\"rgb(71,28,72)\"],[0.25098039215686274,\"rgb(97,30,82)\"],[0.3137254901960784,\"rgb(123,30,89)\"],[0.3764705882352941,\"rgb(150,27,91)\"],[0.4392156862745098,\"rgb(177,22,88)\"],[0.5019607843137255,\"rgb(203,26,79)\"],[0.5647058823529412,\"rgb(223,47,67)\"],[0.6274509803921569,\"rgb(236,76,61)\"],[0.6901960784313725,\"rgb(242,107,73)\"],[0.7529411764705882,\"rgb(244,135,95)\"],[0.8156862745098039,\"rgb(245,162,122)\"],[0.8784313725490196,\"rgb(246,188,153)\"],[0.9411764705882353,\"rgb(247,212,187)\"],[1.0,\"rgb(250,234,220)\"]]},\"colorway\":[\"rgb(76,114,176)\",\"rgb(221,132,82)\",\"rgb(85,168,104)\",\"rgb(196,78,82)\",\"rgb(129,114,179)\",\"rgb(147,120,96)\",\"rgb(218,139,195)\",\"rgb(140,140,140)\",\"rgb(204,185,116)\",\"rgb(100,181,205)\"],\"font\":{\"color\":\"rgb(36,36,36)\"},\"geo\":{\"bgcolor\":\"white\",\"lakecolor\":\"white\",\"landcolor\":\"rgb(234,234,242)\",\"showlakes\":true,\"showland\":true,\"subunitcolor\":\"white\"},\"hoverlabel\":{\"align\":\"left\"},\"hovermode\":\"closest\",\"paper_bgcolor\":\"white\",\"plot_bgcolor\":\"rgb(234,234,242)\",\"polar\":{\"angularaxis\":{\"gridcolor\":\"white\",\"linecolor\":\"white\",\"showgrid\":true,\"ticks\":\"\"},\"bgcolor\":\"rgb(234,234,242)\",\"radialaxis\":{\"gridcolor\":\"white\",\"linecolor\":\"white\",\"showgrid\":true,\"ticks\":\"\"}},\"scene\":{\"xaxis\":{\"backgroundcolor\":\"rgb(234,234,242)\",\"gridcolor\":\"white\",\"gridwidth\":2,\"linecolor\":\"white\",\"showbackground\":true,\"showgrid\":true,\"ticks\":\"\",\"zerolinecolor\":\"white\"},\"yaxis\":{\"backgroundcolor\":\"rgb(234,234,242)\",\"gridcolor\":\"white\",\"gridwidth\":2,\"linecolor\":\"white\",\"showbackground\":true,\"showgrid\":true,\"ticks\":\"\",\"zerolinecolor\":\"white\"},\"zaxis\":{\"backgroundcolor\":\"rgb(234,234,242)\",\"gridcolor\":\"white\",\"gridwidth\":2,\"linecolor\":\"white\",\"showbackground\":true,\"showgrid\":true,\"ticks\":\"\",\"zerolinecolor\":\"white\"}},\"shapedefaults\":{\"fillcolor\":\"rgb(67,103,167)\",\"line\":{\"width\":0},\"opacity\":0.5},\"ternary\":{\"aaxis\":{\"gridcolor\":\"white\",\"linecolor\":\"white\",\"showgrid\":true,\"ticks\":\"\"},\"baxis\":{\"gridcolor\":\"white\",\"linecolor\":\"white\",\"showgrid\":true,\"ticks\":\"\"},\"bgcolor\":\"rgb(234,234,242)\",\"caxis\":{\"gridcolor\":\"white\",\"linecolor\":\"white\",\"showgrid\":true,\"ticks\":\"\"}},\"xaxis\":{\"automargin\":true,\"gridcolor\":\"white\",\"linecolor\":\"white\",\"showgrid\":true,\"ticks\":\"\",\"title\":{\"standoff\":15},\"zerolinecolor\":\"white\"},\"yaxis\":{\"automargin\":true,\"gridcolor\":\"white\",\"linecolor\":\"white\",\"showgrid\":true,\"ticks\":\"\",\"title\":{\"standoff\":15},\"zerolinecolor\":\"white\"}}},\"polar\":{\"domain\":{\"x\":[0.0,1.0],\"y\":[0.0,1.0]},\"angularaxis\":{\"direction\":\"clockwise\",\"rotation\":90,\"categoryorder\":\"array\",\"categoryarray\":[\"N\",\"NNE\",\"NE\",\"ENE\",\"E\",\"ESE\",\"SE\",\"SSE\",\"S\",\"SSW\",\"SW\",\"WSW\",\"W\",\"WNW\",\"NW\",\"NNW\"]}},\"legend\":{\"title\":{\"text\":\"speed\"},\"tracegroupgap\":0},\"title\":{\"text\":\"Spring Wind\"},\"barmode\":\"relative\"},                        {\"responsive\": true}                    ).then(function(){\n",
       "                            \n",
       "var gd = document.getElementById('96a1fc41-b5af-43d2-b6bb-9afe5b72ed70');\n",
       "var x = new MutationObserver(function (mutations, observer) {{\n",
       "        var display = window.getComputedStyle(gd).display;\n",
       "        if (!display || display === 'none') {{\n",
       "            console.log([gd, 'removed!']);\n",
       "            Plotly.purge(gd);\n",
       "            observer.disconnect();\n",
       "        }}\n",
       "}});\n",
       "\n",
       "// Listen for the removal of the full notebook cells\n",
       "var notebookContainer = gd.closest('#notebook-container');\n",
       "if (notebookContainer) {{\n",
       "    x.observe(notebookContainer, {childList: true});\n",
       "}}\n",
       "\n",
       "// Listen for the clearing of the current output cell\n",
       "var outputEl = gd.closest('.output');\n",
       "if (outputEl) {{\n",
       "    x.observe(outputEl, {childList: true});\n",
       "}}\n",
       "\n",
       "                        })                };                });            </script>        </div>"
      ]
     },
     "metadata": {},
     "output_type": "display_data"
    }
   ],
   "source": [
    "WRSP = WindRose(spring)\n",
    "WRSP.calc_stats(normed=False, bins=7)\n",
    "# WRSP.wind_df.rename(columns={'speed': 'Speed (m/s)'}, inplace=True)\n",
    "plot = WRSP.plot(output_type='show',\n",
    "        out_file = '../images/spring_wr_aggrnyl.html',\n",
    "        template='seaborn', \n",
    "        colors='Aggrnyl', \n",
    "        colors_reversed=True,\n",
    "        title='Spring Wind')\n",
    "\n",
    "\n"
   ]
  },
  {
   "cell_type": "code",
   "execution_count": 6,
   "id": "bcab5895",
   "metadata": {},
   "outputs": [
    {
     "data": {
      "application/vnd.plotly.v1+json": {
       "config": {
        "plotlyServerURL": "https://plot.ly"
       },
       "data": [
        {
         "hovertemplate": "speed=-0.02-4.12<br>frequency=%{r}<br>direction=%{theta}<extra></extra>",
         "legendgroup": "-0.02-4.12",
         "marker": {
          "color": "rgb(237, 239, 93)",
          "pattern": {
           "shape": ""
          }
         },
         "name": "-0.02-4.12",
         "r": [
          841,
          893,
          968,
          1138,
          1070,
          1077,
          1002,
          959,
          922,
          860,
          916,
          1046,
          954,
          954,
          1018,
          1068,
          1122,
          1119,
          1027,
          1158,
          958,
          1026,
          967,
          1005,
          746,
          796,
          755,
          839,
          784,
          795,
          814,
          913
         ],
         "showlegend": true,
         "subplot": "polar",
         "theta": [
          "N",
          "NNE",
          "NNE",
          "NE",
          "NE",
          "ENE",
          "ENE",
          "E",
          "E",
          "ESE",
          "ESE",
          "SE",
          "SE",
          "SSE",
          "SSE",
          "S",
          "S",
          "SSW",
          "SSW",
          "SW",
          "SW",
          "WSW",
          "WSW",
          "W",
          "W",
          "WNW",
          "WNW",
          "NW",
          "NW",
          "NNW",
          "NNW",
          "N"
         ],
         "type": "barpolar"
        },
        {
         "hovertemplate": "speed=4.12-8.24<br>frequency=%{r}<br>direction=%{theta}<extra></extra>",
         "legendgroup": "4.12-8.24",
         "marker": {
          "color": "rgb(169, 220, 103)",
          "pattern": {
           "shape": ""
          }
         },
         "name": "4.12-8.24",
         "r": [
          2040,
          2158,
          2099,
          2262,
          1657,
          1460,
          1199,
          1012,
          769,
          705,
          683,
          862,
          932,
          1221,
          1529,
          2166,
          2247,
          2644,
          2618,
          2967,
          2692,
          2340,
          2048,
          1881,
          1633,
          1408,
          1391,
          1408,
          1201,
          1323,
          1339,
          1712
         ],
         "showlegend": true,
         "subplot": "polar",
         "theta": [
          "N",
          "NNE",
          "NNE",
          "NE",
          "NE",
          "ENE",
          "ENE",
          "E",
          "E",
          "ESE",
          "ESE",
          "SE",
          "SE",
          "SSE",
          "SSE",
          "S",
          "S",
          "SSW",
          "SSW",
          "SW",
          "SW",
          "WSW",
          "WSW",
          "W",
          "W",
          "WNW",
          "WNW",
          "NW",
          "NW",
          "NNW",
          "NNW",
          "N"
         ],
         "type": "barpolar"
        },
        {
         "hovertemplate": "speed=8.24-12.36<br>frequency=%{r}<br>direction=%{theta}<extra></extra>",
         "legendgroup": "8.24-12.36",
         "marker": {
          "color": "rgb(110, 197, 116)",
          "pattern": {
           "shape": ""
          }
         },
         "name": "8.24-12.36",
         "r": [
          351,
          256,
          142,
          127,
          93,
          60,
          59,
          45,
          20,
          23,
          36,
          40,
          62,
          77,
          154,
          259,
          388,
          487,
          690,
          744,
          741,
          601,
          472,
          414,
          395,
          364,
          291,
          295,
          197,
          231,
          287,
          325
         ],
         "showlegend": true,
         "subplot": "polar",
         "theta": [
          "N",
          "NNE",
          "NNE",
          "NE",
          "NE",
          "ENE",
          "ENE",
          "E",
          "E",
          "ESE",
          "ESE",
          "SE",
          "SE",
          "SSE",
          "SSE",
          "S",
          "S",
          "SSW",
          "SSW",
          "SW",
          "SW",
          "WSW",
          "WSW",
          "W",
          "W",
          "WNW",
          "WNW",
          "NW",
          "NW",
          "NNW",
          "NNW",
          "N"
         ],
         "type": "barpolar"
        },
        {
         "hovertemplate": "speed=12.36-16.48<br>frequency=%{r}<br>direction=%{theta}<extra></extra>",
         "legendgroup": "12.36-16.48",
         "marker": {
          "color": "rgb(57, 171, 126)",
          "pattern": {
           "shape": ""
          }
         },
         "name": "12.36-16.48",
         "r": [
          9,
          11,
          4,
          2,
          0,
          6,
          4,
          0,
          1,
          0,
          0,
          0,
          0,
          4,
          6,
          25,
          20,
          52,
          67,
          65,
          46,
          48,
          61,
          59,
          35,
          41,
          25,
          14,
          13,
          10,
          15,
          23
         ],
         "showlegend": true,
         "subplot": "polar",
         "theta": [
          "N",
          "NNE",
          "NNE",
          "NE",
          "NE",
          "ENE",
          "ENE",
          "E",
          "E",
          "ESE",
          "ESE",
          "SE",
          "SE",
          "SSE",
          "SSE",
          "S",
          "S",
          "SSW",
          "SSW",
          "SW",
          "SW",
          "WSW",
          "WSW",
          "W",
          "W",
          "WNW",
          "WNW",
          "NW",
          "NW",
          "NNW",
          "NNW",
          "N"
         ],
         "type": "barpolar"
        },
        {
         "hovertemplate": "speed=16.48-20.60<br>frequency=%{r}<br>direction=%{theta}<extra></extra>",
         "legendgroup": "16.48-20.60",
         "marker": {
          "color": "rgb(13, 143, 129)",
          "pattern": {
           "shape": ""
          }
         },
         "name": "16.48-20.60",
         "r": [
          0,
          0,
          0,
          0,
          0,
          0,
          0,
          0,
          0,
          0,
          0,
          0,
          0,
          0,
          0,
          1,
          0,
          2,
          0,
          5,
          1,
          2,
          5,
          5,
          2,
          0,
          0,
          0,
          0,
          0,
          0,
          0
         ],
         "showlegend": true,
         "subplot": "polar",
         "theta": [
          "N",
          "NNE",
          "NNE",
          "NE",
          "NE",
          "ENE",
          "ENE",
          "E",
          "E",
          "ESE",
          "ESE",
          "SE",
          "SE",
          "SSE",
          "SSE",
          "S",
          "S",
          "SSW",
          "SSW",
          "SW",
          "SW",
          "WSW",
          "WSW",
          "W",
          "W",
          "WNW",
          "WNW",
          "NW",
          "NW",
          "NNW",
          "NNW",
          "N"
         ],
         "type": "barpolar"
        },
        {
         "hovertemplate": "speed=20.60-24.72<br>frequency=%{r}<br>direction=%{theta}<extra></extra>",
         "legendgroup": "20.60-24.72",
         "marker": {
          "color": "rgb(15, 114, 121)",
          "pattern": {
           "shape": ""
          }
         },
         "name": "20.60-24.72",
         "r": [
          0,
          0,
          0,
          0,
          0,
          0,
          0,
          0,
          0,
          0,
          0,
          0,
          0,
          0,
          0,
          1,
          0,
          0,
          0,
          1,
          1,
          1,
          0,
          0,
          0,
          0,
          0,
          0,
          0,
          0,
          0,
          0
         ],
         "showlegend": true,
         "subplot": "polar",
         "theta": [
          "N",
          "NNE",
          "NNE",
          "NE",
          "NE",
          "ENE",
          "ENE",
          "E",
          "E",
          "ESE",
          "ESE",
          "SE",
          "SE",
          "SSE",
          "SSE",
          "S",
          "S",
          "SSW",
          "SSW",
          "SW",
          "SW",
          "WSW",
          "WSW",
          "W",
          "W",
          "WNW",
          "WNW",
          "NW",
          "NW",
          "NNW",
          "NNW",
          "N"
         ],
         "type": "barpolar"
        }
       ],
       "layout": {
        "barmode": "relative",
        "legend": {
         "title": {
          "text": "speed"
         },
         "tracegroupgap": 0
        },
        "polar": {
         "angularaxis": {
          "categoryarray": [
           "N",
           "NNE",
           "NE",
           "ENE",
           "E",
           "ESE",
           "SE",
           "SSE",
           "S",
           "SSW",
           "SW",
           "WSW",
           "W",
           "WNW",
           "NW",
           "NNW"
          ],
          "categoryorder": "array",
          "direction": "clockwise",
          "rotation": 90
         },
         "domain": {
          "x": [
           0,
           1
          ],
          "y": [
           0,
           1
          ]
         }
        },
        "template": {
         "data": {
          "pie": [
           {
            "automargin": true,
            "type": "pie"
           }
          ]
         },
         "layout": {
          "xaxis": {
           "showgrid": false,
           "title": {
            "standoff": 15
           }
          },
          "yaxis": {
           "title": {
            "standoff": 15
           }
          }
         }
        },
        "title": {
         "text": "Summer Wind"
        }
       }
      },
      "text/html": [
       "<div>                            <div id=\"7f22160d-f7bf-4020-a39f-c751071c5b69\" class=\"plotly-graph-div\" style=\"height:525px; width:100%;\"></div>            <script type=\"text/javascript\">                require([\"plotly\"], function(Plotly) {                    window.PLOTLYENV=window.PLOTLYENV || {};                                    if (document.getElementById(\"7f22160d-f7bf-4020-a39f-c751071c5b69\")) {                    Plotly.newPlot(                        \"7f22160d-f7bf-4020-a39f-c751071c5b69\",                        [{\"hovertemplate\":\"speed=-0.02-4.12<br>frequency=%{r}<br>direction=%{theta}<extra></extra>\",\"legendgroup\":\"-0.02-4.12\",\"marker\":{\"color\":\"rgb(237, 239, 93)\",\"pattern\":{\"shape\":\"\"}},\"name\":\"-0.02-4.12\",\"r\":[841,893,968,1138,1070,1077,1002,959,922,860,916,1046,954,954,1018,1068,1122,1119,1027,1158,958,1026,967,1005,746,796,755,839,784,795,814,913],\"showlegend\":true,\"subplot\":\"polar\",\"theta\":[\"N\",\"NNE\",\"NNE\",\"NE\",\"NE\",\"ENE\",\"ENE\",\"E\",\"E\",\"ESE\",\"ESE\",\"SE\",\"SE\",\"SSE\",\"SSE\",\"S\",\"S\",\"SSW\",\"SSW\",\"SW\",\"SW\",\"WSW\",\"WSW\",\"W\",\"W\",\"WNW\",\"WNW\",\"NW\",\"NW\",\"NNW\",\"NNW\",\"N\"],\"type\":\"barpolar\"},{\"hovertemplate\":\"speed=4.12-8.24<br>frequency=%{r}<br>direction=%{theta}<extra></extra>\",\"legendgroup\":\"4.12-8.24\",\"marker\":{\"color\":\"rgb(169, 220, 103)\",\"pattern\":{\"shape\":\"\"}},\"name\":\"4.12-8.24\",\"r\":[2040,2158,2099,2262,1657,1460,1199,1012,769,705,683,862,932,1221,1529,2166,2247,2644,2618,2967,2692,2340,2048,1881,1633,1408,1391,1408,1201,1323,1339,1712],\"showlegend\":true,\"subplot\":\"polar\",\"theta\":[\"N\",\"NNE\",\"NNE\",\"NE\",\"NE\",\"ENE\",\"ENE\",\"E\",\"E\",\"ESE\",\"ESE\",\"SE\",\"SE\",\"SSE\",\"SSE\",\"S\",\"S\",\"SSW\",\"SSW\",\"SW\",\"SW\",\"WSW\",\"WSW\",\"W\",\"W\",\"WNW\",\"WNW\",\"NW\",\"NW\",\"NNW\",\"NNW\",\"N\"],\"type\":\"barpolar\"},{\"hovertemplate\":\"speed=8.24-12.36<br>frequency=%{r}<br>direction=%{theta}<extra></extra>\",\"legendgroup\":\"8.24-12.36\",\"marker\":{\"color\":\"rgb(110, 197, 116)\",\"pattern\":{\"shape\":\"\"}},\"name\":\"8.24-12.36\",\"r\":[351,256,142,127,93,60,59,45,20,23,36,40,62,77,154,259,388,487,690,744,741,601,472,414,395,364,291,295,197,231,287,325],\"showlegend\":true,\"subplot\":\"polar\",\"theta\":[\"N\",\"NNE\",\"NNE\",\"NE\",\"NE\",\"ENE\",\"ENE\",\"E\",\"E\",\"ESE\",\"ESE\",\"SE\",\"SE\",\"SSE\",\"SSE\",\"S\",\"S\",\"SSW\",\"SSW\",\"SW\",\"SW\",\"WSW\",\"WSW\",\"W\",\"W\",\"WNW\",\"WNW\",\"NW\",\"NW\",\"NNW\",\"NNW\",\"N\"],\"type\":\"barpolar\"},{\"hovertemplate\":\"speed=12.36-16.48<br>frequency=%{r}<br>direction=%{theta}<extra></extra>\",\"legendgroup\":\"12.36-16.48\",\"marker\":{\"color\":\"rgb(57, 171, 126)\",\"pattern\":{\"shape\":\"\"}},\"name\":\"12.36-16.48\",\"r\":[9,11,4,2,0,6,4,0,1,0,0,0,0,4,6,25,20,52,67,65,46,48,61,59,35,41,25,14,13,10,15,23],\"showlegend\":true,\"subplot\":\"polar\",\"theta\":[\"N\",\"NNE\",\"NNE\",\"NE\",\"NE\",\"ENE\",\"ENE\",\"E\",\"E\",\"ESE\",\"ESE\",\"SE\",\"SE\",\"SSE\",\"SSE\",\"S\",\"S\",\"SSW\",\"SSW\",\"SW\",\"SW\",\"WSW\",\"WSW\",\"W\",\"W\",\"WNW\",\"WNW\",\"NW\",\"NW\",\"NNW\",\"NNW\",\"N\"],\"type\":\"barpolar\"},{\"hovertemplate\":\"speed=16.48-20.60<br>frequency=%{r}<br>direction=%{theta}<extra></extra>\",\"legendgroup\":\"16.48-20.60\",\"marker\":{\"color\":\"rgb(13, 143, 129)\",\"pattern\":{\"shape\":\"\"}},\"name\":\"16.48-20.60\",\"r\":[0,0,0,0,0,0,0,0,0,0,0,0,0,0,0,1,0,2,0,5,1,2,5,5,2,0,0,0,0,0,0,0],\"showlegend\":true,\"subplot\":\"polar\",\"theta\":[\"N\",\"NNE\",\"NNE\",\"NE\",\"NE\",\"ENE\",\"ENE\",\"E\",\"E\",\"ESE\",\"ESE\",\"SE\",\"SE\",\"SSE\",\"SSE\",\"S\",\"S\",\"SSW\",\"SSW\",\"SW\",\"SW\",\"WSW\",\"WSW\",\"W\",\"W\",\"WNW\",\"WNW\",\"NW\",\"NW\",\"NNW\",\"NNW\",\"N\"],\"type\":\"barpolar\"},{\"hovertemplate\":\"speed=20.60-24.72<br>frequency=%{r}<br>direction=%{theta}<extra></extra>\",\"legendgroup\":\"20.60-24.72\",\"marker\":{\"color\":\"rgb(15, 114, 121)\",\"pattern\":{\"shape\":\"\"}},\"name\":\"20.60-24.72\",\"r\":[0,0,0,0,0,0,0,0,0,0,0,0,0,0,0,1,0,0,0,1,1,1,0,0,0,0,0,0,0,0,0,0],\"showlegend\":true,\"subplot\":\"polar\",\"theta\":[\"N\",\"NNE\",\"NNE\",\"NE\",\"NE\",\"ENE\",\"ENE\",\"E\",\"E\",\"ESE\",\"ESE\",\"SE\",\"SE\",\"SSE\",\"SSE\",\"S\",\"S\",\"SSW\",\"SSW\",\"SW\",\"SW\",\"WSW\",\"WSW\",\"W\",\"W\",\"WNW\",\"WNW\",\"NW\",\"NW\",\"NNW\",\"NNW\",\"N\"],\"type\":\"barpolar\"}],                        {\"template\":{\"data\":{\"pie\":[{\"automargin\":true,\"type\":\"pie\"}]},\"layout\":{\"xaxis\":{\"showgrid\":false,\"title\":{\"standoff\":15}},\"yaxis\":{\"title\":{\"standoff\":15}}}},\"polar\":{\"domain\":{\"x\":[0.0,1.0],\"y\":[0.0,1.0]},\"angularaxis\":{\"direction\":\"clockwise\",\"rotation\":90,\"categoryorder\":\"array\",\"categoryarray\":[\"N\",\"NNE\",\"NE\",\"ENE\",\"E\",\"ESE\",\"SE\",\"SSE\",\"S\",\"SSW\",\"SW\",\"WSW\",\"W\",\"WNW\",\"NW\",\"NNW\"]}},\"legend\":{\"title\":{\"text\":\"speed\"},\"tracegroupgap\":0},\"title\":{\"text\":\"Summer Wind\"},\"barmode\":\"relative\"},                        {\"responsive\": true}                    ).then(function(){\n",
       "                            \n",
       "var gd = document.getElementById('7f22160d-f7bf-4020-a39f-c751071c5b69');\n",
       "var x = new MutationObserver(function (mutations, observer) {{\n",
       "        var display = window.getComputedStyle(gd).display;\n",
       "        if (!display || display === 'none') {{\n",
       "            console.log([gd, 'removed!']);\n",
       "            Plotly.purge(gd);\n",
       "            observer.disconnect();\n",
       "        }}\n",
       "}});\n",
       "\n",
       "// Listen for the removal of the full notebook cells\n",
       "var notebookContainer = gd.closest('#notebook-container');\n",
       "if (notebookContainer) {{\n",
       "    x.observe(notebookContainer, {childList: true});\n",
       "}}\n",
       "\n",
       "// Listen for the clearing of the current output cell\n",
       "var outputEl = gd.closest('.output');\n",
       "if (outputEl) {{\n",
       "    x.observe(outputEl, {childList: true});\n",
       "}}\n",
       "\n",
       "                        })                };                });            </script>        </div>"
      ]
     },
     "metadata": {},
     "output_type": "display_data"
    }
   ],
   "source": [
    "WRSU = WindRose(summer)\n",
    "WRSU.calc_stats(normed=False, bins=6)\n",
    "WRSU.plot(output_type='show',\n",
    "        out_file = '../images/summer_wr_aggrnyl.html',\n",
    "        template='xgridoff', \n",
    "        colors='Aggrnyl', \n",
    "        colors_reversed=True,\n",
    "        title='Summer Wind')\n"
   ]
  },
  {
   "cell_type": "code",
   "execution_count": 7,
   "id": "ca9589ac",
   "metadata": {},
   "outputs": [
    {
     "data": {
      "text/plain": [
       "dict_keys(['ggplot2', 'seaborn', 'simple_white', 'plotly', 'plotly_white', 'plotly_dark', 'presentation', 'xgridoff', 'ygridoff', 'gridon', 'none'])"
      ]
     },
     "execution_count": 7,
     "metadata": {},
     "output_type": "execute_result"
    }
   ],
   "source": [
    "pio.templates.keys()"
   ]
  },
  {
   "cell_type": "code",
   "execution_count": 10,
   "id": "738c3074",
   "metadata": {},
   "outputs": [
    {
     "data": {
      "application/vnd.plotly.v1+json": {
       "config": {
        "plotlyServerURL": "https://plot.ly"
       },
       "data": [
        {
         "hovertemplate": "speed=0.02-4.06<br>frequency=%{r}<br>direction=%{theta}<extra></extra>",
         "legendgroup": "0.02-4.06",
         "marker": {
          "color": "rgb(237, 239, 93)",
          "pattern": {
           "shape": ""
          }
         },
         "name": "0.02-4.06",
         "r": [
          377,
          391,
          391,
          447,
          400,
          411,
          390,
          452,
          376,
          434,
          445,
          484,
          423,
          500,
          452,
          493,
          470,
          459,
          462,
          489,
          509,
          472,
          497,
          536,
          464,
          475,
          441,
          500,
          443,
          406,
          417,
          450
         ],
         "showlegend": true,
         "subplot": "polar",
         "theta": [
          "N",
          "NNE",
          "NNE",
          "NE",
          "NE",
          "ENE",
          "ENE",
          "E",
          "E",
          "ESE",
          "ESE",
          "SE",
          "SE",
          "SSE",
          "SSE",
          "S",
          "S",
          "SSW",
          "SSW",
          "SW",
          "SW",
          "WSW",
          "WSW",
          "W",
          "W",
          "WNW",
          "WNW",
          "NW",
          "NW",
          "NNW",
          "NNW",
          "N"
         ],
         "type": "barpolar"
        },
        {
         "hovertemplate": "speed=4.06-8.07<br>frequency=%{r}<br>direction=%{theta}<extra></extra>",
         "legendgroup": "4.06-8.07",
         "marker": {
          "color": "rgb(169, 220, 103)",
          "pattern": {
           "shape": ""
          }
         },
         "name": "4.06-8.07",
         "r": [
          959,
          942,
          1027,
          1124,
          971,
          979,
          928,
          964,
          866,
          885,
          902,
          1062,
          1139,
          1351,
          1683,
          2085,
          2216,
          2323,
          2391,
          2647,
          2260,
          2027,
          1895,
          2121,
          1828,
          1693,
          1529,
          1520,
          1159,
          1065,
          916,
          916
         ],
         "showlegend": true,
         "subplot": "polar",
         "theta": [
          "N",
          "NNE",
          "NNE",
          "NE",
          "NE",
          "ENE",
          "ENE",
          "E",
          "E",
          "ESE",
          "ESE",
          "SE",
          "SE",
          "SSE",
          "SSE",
          "S",
          "S",
          "SSW",
          "SSW",
          "SW",
          "SW",
          "WSW",
          "WSW",
          "W",
          "W",
          "WNW",
          "WNW",
          "NW",
          "NW",
          "NNW",
          "NNW",
          "N"
         ],
         "type": "barpolar"
        },
        {
         "hovertemplate": "speed=8.07-12.09<br>frequency=%{r}<br>direction=%{theta}<extra></extra>",
         "legendgroup": "8.07-12.09",
         "marker": {
          "color": "rgb(110, 197, 116)",
          "pattern": {
           "shape": ""
          }
         },
         "name": "8.07-12.09",
         "r": [
          329,
          254,
          197,
          229,
          165,
          131,
          113,
          159,
          124,
          159,
          174,
          189,
          362,
          526,
          825,
          1300,
          1706,
          1900,
          1975,
          1889,
          1353,
          1335,
          1503,
          1770,
          1435,
          1268,
          1082,
          1001,
          667,
          425,
          376,
          420
         ],
         "showlegend": true,
         "subplot": "polar",
         "theta": [
          "N",
          "NNE",
          "NNE",
          "NE",
          "NE",
          "ENE",
          "ENE",
          "E",
          "E",
          "ESE",
          "ESE",
          "SE",
          "SE",
          "SSE",
          "SSE",
          "S",
          "S",
          "SSW",
          "SSW",
          "SW",
          "SW",
          "WSW",
          "WSW",
          "W",
          "W",
          "WNW",
          "WNW",
          "NW",
          "NW",
          "NNW",
          "NNW",
          "N"
         ],
         "type": "barpolar"
        },
        {
         "hovertemplate": "speed=12.09-16.11<br>frequency=%{r}<br>direction=%{theta}<extra></extra>",
         "legendgroup": "12.09-16.11",
         "marker": {
          "color": "rgb(57, 171, 126)",
          "pattern": {
           "shape": ""
          }
         },
         "name": "12.09-16.11",
         "r": [
          17,
          7,
          13,
          8,
          6,
          11,
          9,
          6,
          5,
          18,
          23,
          20,
          28,
          110,
          163,
          220,
          353,
          421,
          423,
          411,
          317,
          390,
          533,
          601,
          414,
          349,
          267,
          253,
          124,
          82,
          66,
          64
         ],
         "showlegend": true,
         "subplot": "polar",
         "theta": [
          "N",
          "NNE",
          "NNE",
          "NE",
          "NE",
          "ENE",
          "ENE",
          "E",
          "E",
          "ESE",
          "ESE",
          "SE",
          "SE",
          "SSE",
          "SSE",
          "S",
          "S",
          "SSW",
          "SSW",
          "SW",
          "SW",
          "WSW",
          "WSW",
          "W",
          "W",
          "WNW",
          "WNW",
          "NW",
          "NW",
          "NNW",
          "NNW",
          "N"
         ],
         "type": "barpolar"
        },
        {
         "hovertemplate": "speed=16.11-20.12<br>frequency=%{r}<br>direction=%{theta}<extra></extra>",
         "legendgroup": "16.11-20.12",
         "marker": {
          "color": "rgb(13, 143, 129)",
          "pattern": {
           "shape": ""
          }
         },
         "name": "16.11-20.12",
         "r": [
          0,
          0,
          0,
          0,
          0,
          0,
          2,
          0,
          0,
          0,
          0,
          1,
          4,
          13,
          31,
          35,
          44,
          49,
          42,
          42,
          74,
          74,
          115,
          126,
          54,
          34,
          16,
          7,
          12,
          5,
          5,
          1
         ],
         "showlegend": true,
         "subplot": "polar",
         "theta": [
          "N",
          "NNE",
          "NNE",
          "NE",
          "NE",
          "ENE",
          "ENE",
          "E",
          "E",
          "ESE",
          "ESE",
          "SE",
          "SE",
          "SSE",
          "SSE",
          "S",
          "S",
          "SSW",
          "SSW",
          "SW",
          "SW",
          "WSW",
          "WSW",
          "W",
          "W",
          "WNW",
          "WNW",
          "NW",
          "NW",
          "NNW",
          "NNW",
          "N"
         ],
         "type": "barpolar"
        },
        {
         "hovertemplate": "speed=20.12-24.14<br>frequency=%{r}<br>direction=%{theta}<extra></extra>",
         "legendgroup": "20.12-24.14",
         "marker": {
          "color": "rgb(15, 114, 121)",
          "pattern": {
           "shape": ""
          }
         },
         "name": "20.12-24.14",
         "r": [
          0,
          0,
          0,
          0,
          0,
          0,
          0,
          0,
          0,
          0,
          0,
          0,
          0,
          0,
          0,
          1,
          1,
          2,
          0,
          5,
          9,
          21,
          10,
          3,
          3,
          1,
          4,
          0,
          4,
          0,
          0,
          0
         ],
         "showlegend": true,
         "subplot": "polar",
         "theta": [
          "N",
          "NNE",
          "NNE",
          "NE",
          "NE",
          "ENE",
          "ENE",
          "E",
          "E",
          "ESE",
          "ESE",
          "SE",
          "SE",
          "SSE",
          "SSE",
          "S",
          "S",
          "SSW",
          "SSW",
          "SW",
          "SW",
          "WSW",
          "WSW",
          "W",
          "W",
          "WNW",
          "WNW",
          "NW",
          "NW",
          "NNW",
          "NNW",
          "N"
         ],
         "type": "barpolar"
        }
       ],
       "layout": {
        "barmode": "relative",
        "legend": {
         "title": {
          "text": "speed"
         },
         "tracegroupgap": 0
        },
        "polar": {
         "angularaxis": {
          "categoryarray": [
           "N",
           "NNE",
           "NE",
           "ENE",
           "E",
           "ESE",
           "SE",
           "SSE",
           "S",
           "SSW",
           "SW",
           "WSW",
           "W",
           "WNW",
           "NW",
           "NNW"
          ],
          "categoryorder": "array",
          "direction": "clockwise",
          "rotation": 90
         },
         "domain": {
          "x": [
           0,
           1
          ],
          "y": [
           0,
           1
          ]
         }
        },
        "template": {
         "data": {
          "pie": [
           {
            "automargin": true,
            "type": "pie"
           }
          ]
         },
         "layout": {
          "xaxis": {
           "showgrid": false,
           "title": {
            "standoff": 15
           }
          },
          "yaxis": {
           "title": {
            "standoff": 15
           }
          }
         }
        },
        "title": {
         "text": "Fall Wind"
        }
       }
      },
      "text/html": [
       "<div>                            <div id=\"7534677e-f250-4d36-8c11-f894463007f4\" class=\"plotly-graph-div\" style=\"height:525px; width:100%;\"></div>            <script type=\"text/javascript\">                require([\"plotly\"], function(Plotly) {                    window.PLOTLYENV=window.PLOTLYENV || {};                                    if (document.getElementById(\"7534677e-f250-4d36-8c11-f894463007f4\")) {                    Plotly.newPlot(                        \"7534677e-f250-4d36-8c11-f894463007f4\",                        [{\"hovertemplate\":\"speed=0.02-4.06<br>frequency=%{r}<br>direction=%{theta}<extra></extra>\",\"legendgroup\":\"0.02-4.06\",\"marker\":{\"color\":\"rgb(237, 239, 93)\",\"pattern\":{\"shape\":\"\"}},\"name\":\"0.02-4.06\",\"r\":[377,391,391,447,400,411,390,452,376,434,445,484,423,500,452,493,470,459,462,489,509,472,497,536,464,475,441,500,443,406,417,450],\"showlegend\":true,\"subplot\":\"polar\",\"theta\":[\"N\",\"NNE\",\"NNE\",\"NE\",\"NE\",\"ENE\",\"ENE\",\"E\",\"E\",\"ESE\",\"ESE\",\"SE\",\"SE\",\"SSE\",\"SSE\",\"S\",\"S\",\"SSW\",\"SSW\",\"SW\",\"SW\",\"WSW\",\"WSW\",\"W\",\"W\",\"WNW\",\"WNW\",\"NW\",\"NW\",\"NNW\",\"NNW\",\"N\"],\"type\":\"barpolar\"},{\"hovertemplate\":\"speed=4.06-8.07<br>frequency=%{r}<br>direction=%{theta}<extra></extra>\",\"legendgroup\":\"4.06-8.07\",\"marker\":{\"color\":\"rgb(169, 220, 103)\",\"pattern\":{\"shape\":\"\"}},\"name\":\"4.06-8.07\",\"r\":[959,942,1027,1124,971,979,928,964,866,885,902,1062,1139,1351,1683,2085,2216,2323,2391,2647,2260,2027,1895,2121,1828,1693,1529,1520,1159,1065,916,916],\"showlegend\":true,\"subplot\":\"polar\",\"theta\":[\"N\",\"NNE\",\"NNE\",\"NE\",\"NE\",\"ENE\",\"ENE\",\"E\",\"E\",\"ESE\",\"ESE\",\"SE\",\"SE\",\"SSE\",\"SSE\",\"S\",\"S\",\"SSW\",\"SSW\",\"SW\",\"SW\",\"WSW\",\"WSW\",\"W\",\"W\",\"WNW\",\"WNW\",\"NW\",\"NW\",\"NNW\",\"NNW\",\"N\"],\"type\":\"barpolar\"},{\"hovertemplate\":\"speed=8.07-12.09<br>frequency=%{r}<br>direction=%{theta}<extra></extra>\",\"legendgroup\":\"8.07-12.09\",\"marker\":{\"color\":\"rgb(110, 197, 116)\",\"pattern\":{\"shape\":\"\"}},\"name\":\"8.07-12.09\",\"r\":[329,254,197,229,165,131,113,159,124,159,174,189,362,526,825,1300,1706,1900,1975,1889,1353,1335,1503,1770,1435,1268,1082,1001,667,425,376,420],\"showlegend\":true,\"subplot\":\"polar\",\"theta\":[\"N\",\"NNE\",\"NNE\",\"NE\",\"NE\",\"ENE\",\"ENE\",\"E\",\"E\",\"ESE\",\"ESE\",\"SE\",\"SE\",\"SSE\",\"SSE\",\"S\",\"S\",\"SSW\",\"SSW\",\"SW\",\"SW\",\"WSW\",\"WSW\",\"W\",\"W\",\"WNW\",\"WNW\",\"NW\",\"NW\",\"NNW\",\"NNW\",\"N\"],\"type\":\"barpolar\"},{\"hovertemplate\":\"speed=12.09-16.11<br>frequency=%{r}<br>direction=%{theta}<extra></extra>\",\"legendgroup\":\"12.09-16.11\",\"marker\":{\"color\":\"rgb(57, 171, 126)\",\"pattern\":{\"shape\":\"\"}},\"name\":\"12.09-16.11\",\"r\":[17,7,13,8,6,11,9,6,5,18,23,20,28,110,163,220,353,421,423,411,317,390,533,601,414,349,267,253,124,82,66,64],\"showlegend\":true,\"subplot\":\"polar\",\"theta\":[\"N\",\"NNE\",\"NNE\",\"NE\",\"NE\",\"ENE\",\"ENE\",\"E\",\"E\",\"ESE\",\"ESE\",\"SE\",\"SE\",\"SSE\",\"SSE\",\"S\",\"S\",\"SSW\",\"SSW\",\"SW\",\"SW\",\"WSW\",\"WSW\",\"W\",\"W\",\"WNW\",\"WNW\",\"NW\",\"NW\",\"NNW\",\"NNW\",\"N\"],\"type\":\"barpolar\"},{\"hovertemplate\":\"speed=16.11-20.12<br>frequency=%{r}<br>direction=%{theta}<extra></extra>\",\"legendgroup\":\"16.11-20.12\",\"marker\":{\"color\":\"rgb(13, 143, 129)\",\"pattern\":{\"shape\":\"\"}},\"name\":\"16.11-20.12\",\"r\":[0,0,0,0,0,0,2,0,0,0,0,1,4,13,31,35,44,49,42,42,74,74,115,126,54,34,16,7,12,5,5,1],\"showlegend\":true,\"subplot\":\"polar\",\"theta\":[\"N\",\"NNE\",\"NNE\",\"NE\",\"NE\",\"ENE\",\"ENE\",\"E\",\"E\",\"ESE\",\"ESE\",\"SE\",\"SE\",\"SSE\",\"SSE\",\"S\",\"S\",\"SSW\",\"SSW\",\"SW\",\"SW\",\"WSW\",\"WSW\",\"W\",\"W\",\"WNW\",\"WNW\",\"NW\",\"NW\",\"NNW\",\"NNW\",\"N\"],\"type\":\"barpolar\"},{\"hovertemplate\":\"speed=20.12-24.14<br>frequency=%{r}<br>direction=%{theta}<extra></extra>\",\"legendgroup\":\"20.12-24.14\",\"marker\":{\"color\":\"rgb(15, 114, 121)\",\"pattern\":{\"shape\":\"\"}},\"name\":\"20.12-24.14\",\"r\":[0,0,0,0,0,0,0,0,0,0,0,0,0,0,0,1,1,2,0,5,9,21,10,3,3,1,4,0,4,0,0,0],\"showlegend\":true,\"subplot\":\"polar\",\"theta\":[\"N\",\"NNE\",\"NNE\",\"NE\",\"NE\",\"ENE\",\"ENE\",\"E\",\"E\",\"ESE\",\"ESE\",\"SE\",\"SE\",\"SSE\",\"SSE\",\"S\",\"S\",\"SSW\",\"SSW\",\"SW\",\"SW\",\"WSW\",\"WSW\",\"W\",\"W\",\"WNW\",\"WNW\",\"NW\",\"NW\",\"NNW\",\"NNW\",\"N\"],\"type\":\"barpolar\"}],                        {\"template\":{\"data\":{\"pie\":[{\"automargin\":true,\"type\":\"pie\"}]},\"layout\":{\"xaxis\":{\"showgrid\":false,\"title\":{\"standoff\":15}},\"yaxis\":{\"title\":{\"standoff\":15}}}},\"polar\":{\"domain\":{\"x\":[0.0,1.0],\"y\":[0.0,1.0]},\"angularaxis\":{\"direction\":\"clockwise\",\"rotation\":90,\"categoryorder\":\"array\",\"categoryarray\":[\"N\",\"NNE\",\"NE\",\"ENE\",\"E\",\"ESE\",\"SE\",\"SSE\",\"S\",\"SSW\",\"SW\",\"WSW\",\"W\",\"WNW\",\"NW\",\"NNW\"]}},\"legend\":{\"title\":{\"text\":\"speed\"},\"tracegroupgap\":0},\"title\":{\"text\":\"Fall Wind\"},\"barmode\":\"relative\"},                        {\"responsive\": true}                    ).then(function(){\n",
       "                            \n",
       "var gd = document.getElementById('7534677e-f250-4d36-8c11-f894463007f4');\n",
       "var x = new MutationObserver(function (mutations, observer) {{\n",
       "        var display = window.getComputedStyle(gd).display;\n",
       "        if (!display || display === 'none') {{\n",
       "            console.log([gd, 'removed!']);\n",
       "            Plotly.purge(gd);\n",
       "            observer.disconnect();\n",
       "        }}\n",
       "}});\n",
       "\n",
       "// Listen for the removal of the full notebook cells\n",
       "var notebookContainer = gd.closest('#notebook-container');\n",
       "if (notebookContainer) {{\n",
       "    x.observe(notebookContainer, {childList: true});\n",
       "}}\n",
       "\n",
       "// Listen for the clearing of the current output cell\n",
       "var outputEl = gd.closest('.output');\n",
       "if (outputEl) {{\n",
       "    x.observe(outputEl, {childList: true});\n",
       "}}\n",
       "\n",
       "                        })                };                });            </script>        </div>"
      ]
     },
     "metadata": {},
     "output_type": "display_data"
    }
   ],
   "source": [
    "WRFA = WindRose(fall)\n",
    "WRFA.calc_stats(normed=False, bins=6)\n",
    "WRFA.plot(output_type='show',\n",
    "        out_file = '../images/fall_wr_aggrnyl.html',\n",
    "        template='xgridoff', \n",
    "        colors='Aggrnyl', \n",
    "        colors_reversed=True,\n",
    "        title='Fall Wind')\n"
   ]
  },
  {
   "cell_type": "code",
   "execution_count": 11,
   "id": "031878e0",
   "metadata": {},
   "outputs": [
    {
     "data": {
      "application/vnd.plotly.v1+json": {
       "config": {
        "plotlyServerURL": "https://plot.ly"
       },
       "data": [
        {
         "hovertemplate": "speed=-0.01-4.21<br>frequency=%{r}<br>direction=%{theta}<extra></extra>",
         "legendgroup": "-0.01-4.21",
         "marker": {
          "color": "rgb(237, 239, 93)",
          "pattern": {
           "shape": ""
          }
         },
         "name": "-0.01-4.21",
         "r": [
          432,
          436,
          450,
          495,
          442,
          446,
          375,
          484,
          402,
          367,
          375,
          422,
          366,
          373,
          369,
          412,
          364,
          386,
          357,
          424,
          465,
          426,
          468,
          550,
          438,
          502,
          475,
          483,
          478,
          438,
          468,
          479
         ],
         "showlegend": true,
         "subplot": "polar",
         "theta": [
          "N",
          "NNE",
          "NNE",
          "NE",
          "NE",
          "ENE",
          "ENE",
          "E",
          "E",
          "ESE",
          "ESE",
          "SE",
          "SE",
          "SSE",
          "SSE",
          "S",
          "S",
          "SSW",
          "SSW",
          "SW",
          "SW",
          "WSW",
          "WSW",
          "W",
          "W",
          "WNW",
          "WNW",
          "NW",
          "NW",
          "NNW",
          "NNW",
          "N"
         ],
         "type": "barpolar"
        },
        {
         "hovertemplate": "speed=4.21-8.41<br>frequency=%{r}<br>direction=%{theta}<extra></extra>",
         "legendgroup": "4.21-8.41",
         "marker": {
          "color": "rgb(169, 220, 103)",
          "pattern": {
           "shape": ""
          }
         },
         "name": "4.21-8.41",
         "r": [
          1301,
          1219,
          1281,
          1232,
          1145,
          1051,
          896,
          1063,
          905,
          861,
          788,
          886,
          879,
          990,
          1202,
          1484,
          1617,
          1776,
          1882,
          2079,
          1787,
          1892,
          2049,
          2347,
          2279,
          2081,
          1877,
          1718,
          1561,
          1282,
          1308,
          1276
         ],
         "showlegend": true,
         "subplot": "polar",
         "theta": [
          "N",
          "NNE",
          "NNE",
          "NE",
          "NE",
          "ENE",
          "ENE",
          "E",
          "E",
          "ESE",
          "ESE",
          "SE",
          "SE",
          "SSE",
          "SSE",
          "S",
          "S",
          "SSW",
          "SSW",
          "SW",
          "SW",
          "WSW",
          "WSW",
          "W",
          "W",
          "WNW",
          "WNW",
          "NW",
          "NW",
          "NNW",
          "NNW",
          "N"
         ],
         "type": "barpolar"
        },
        {
         "hovertemplate": "speed=8.41-12.61<br>frequency=%{r}<br>direction=%{theta}<extra></extra>",
         "legendgroup": "8.41-12.61",
         "marker": {
          "color": "rgb(110, 197, 116)",
          "pattern": {
           "shape": ""
          }
         },
         "name": "8.41-12.61",
         "r": [
          533,
          378,
          336,
          363,
          267,
          245,
          226,
          212,
          184,
          183,
          184,
          199,
          303,
          496,
          666,
          1063,
          1361,
          1530,
          1487,
          1593,
          1305,
          1280,
          1466,
          1928,
          1767,
          1502,
          1369,
          1147,
          878,
          695,
          570,
          538
         ],
         "showlegend": true,
         "subplot": "polar",
         "theta": [
          "N",
          "NNE",
          "NNE",
          "NE",
          "NE",
          "ENE",
          "ENE",
          "E",
          "E",
          "ESE",
          "ESE",
          "SE",
          "SE",
          "SSE",
          "SSE",
          "S",
          "S",
          "SSW",
          "SSW",
          "SW",
          "SW",
          "WSW",
          "WSW",
          "W",
          "W",
          "WNW",
          "WNW",
          "NW",
          "NW",
          "NNW",
          "NNW",
          "N"
         ],
         "type": "barpolar"
        },
        {
         "hovertemplate": "speed=12.61-16.80<br>frequency=%{r}<br>direction=%{theta}<extra></extra>",
         "legendgroup": "12.61-16.80",
         "marker": {
          "color": "rgb(57, 171, 126)",
          "pattern": {
           "shape": ""
          }
         },
         "name": "12.61-16.80",
         "r": [
          45,
          31,
          40,
          25,
          18,
          11,
          15,
          5,
          9,
          9,
          13,
          18,
          27,
          64,
          104,
          212,
          276,
          368,
          393,
          453,
          302,
          414,
          579,
          747,
          602,
          433,
          259,
          257,
          117,
          143,
          96,
          94
         ],
         "showlegend": true,
         "subplot": "polar",
         "theta": [
          "N",
          "NNE",
          "NNE",
          "NE",
          "NE",
          "ENE",
          "ENE",
          "E",
          "E",
          "ESE",
          "ESE",
          "SE",
          "SE",
          "SSE",
          "SSE",
          "S",
          "S",
          "SSW",
          "SSW",
          "SW",
          "SW",
          "WSW",
          "WSW",
          "W",
          "W",
          "WNW",
          "WNW",
          "NW",
          "NW",
          "NNW",
          "NNW",
          "N"
         ],
         "type": "barpolar"
        },
        {
         "hovertemplate": "speed=16.80-21.00<br>frequency=%{r}<br>direction=%{theta}<extra></extra>",
         "legendgroup": "16.80-21.00",
         "marker": {
          "color": "rgb(13, 143, 129)",
          "pattern": {
           "shape": ""
          }
         },
         "name": "16.80-21.00",
         "r": [
          1,
          0,
          2,
          0,
          0,
          0,
          0,
          0,
          1,
          0,
          0,
          0,
          0,
          2,
          19,
          16,
          34,
          36,
          34,
          41,
          61,
          73,
          99,
          118,
          70,
          36,
          20,
          13,
          8,
          25,
          11,
          8
         ],
         "showlegend": true,
         "subplot": "polar",
         "theta": [
          "N",
          "NNE",
          "NNE",
          "NE",
          "NE",
          "ENE",
          "ENE",
          "E",
          "E",
          "ESE",
          "ESE",
          "SE",
          "SE",
          "SSE",
          "SSE",
          "S",
          "S",
          "SSW",
          "SSW",
          "SW",
          "SW",
          "WSW",
          "WSW",
          "W",
          "W",
          "WNW",
          "WNW",
          "NW",
          "NW",
          "NNW",
          "NNW",
          "N"
         ],
         "type": "barpolar"
        },
        {
         "hovertemplate": "speed=21.00-25.19<br>frequency=%{r}<br>direction=%{theta}<extra></extra>",
         "legendgroup": "21.00-25.19",
         "marker": {
          "color": "rgb(15, 114, 121)",
          "pattern": {
           "shape": ""
          }
         },
         "name": "21.00-25.19",
         "r": [
          0,
          0,
          0,
          0,
          0,
          0,
          0,
          0,
          0,
          0,
          0,
          0,
          0,
          0,
          0,
          1,
          0,
          1,
          2,
          4,
          6,
          6,
          14,
          6,
          3,
          2,
          1,
          0,
          0,
          0,
          0,
          0
         ],
         "showlegend": true,
         "subplot": "polar",
         "theta": [
          "N",
          "NNE",
          "NNE",
          "NE",
          "NE",
          "ENE",
          "ENE",
          "E",
          "E",
          "ESE",
          "ESE",
          "SE",
          "SE",
          "SSE",
          "SSE",
          "S",
          "S",
          "SSW",
          "SSW",
          "SW",
          "SW",
          "WSW",
          "WSW",
          "W",
          "W",
          "WNW",
          "WNW",
          "NW",
          "NW",
          "NNW",
          "NNW",
          "N"
         ],
         "type": "barpolar"
        }
       ],
       "layout": {
        "barmode": "relative",
        "legend": {
         "title": {
          "text": "speed"
         },
         "tracegroupgap": 0
        },
        "polar": {
         "angularaxis": {
          "categoryarray": [
           "N",
           "NNE",
           "NE",
           "ENE",
           "E",
           "ESE",
           "SE",
           "SSE",
           "S",
           "SSW",
           "SW",
           "WSW",
           "W",
           "WNW",
           "NW",
           "NNW"
          ],
          "categoryorder": "array",
          "direction": "clockwise",
          "rotation": 90
         },
         "domain": {
          "x": [
           0,
           1
          ],
          "y": [
           0,
           1
          ]
         }
        },
        "template": {
         "data": {
          "pie": [
           {
            "automargin": true,
            "type": "pie"
           }
          ]
         },
         "layout": {
          "xaxis": {
           "showgrid": false,
           "title": {
            "standoff": 15
           }
          },
          "yaxis": {
           "title": {
            "standoff": 15
           }
          }
         }
        },
        "title": {
         "text": "Winter Wind"
        }
       }
      },
      "text/html": [
       "<div>                            <div id=\"300112f9-1cc0-49cc-b77d-c7147c0c3833\" class=\"plotly-graph-div\" style=\"height:525px; width:100%;\"></div>            <script type=\"text/javascript\">                require([\"plotly\"], function(Plotly) {                    window.PLOTLYENV=window.PLOTLYENV || {};                                    if (document.getElementById(\"300112f9-1cc0-49cc-b77d-c7147c0c3833\")) {                    Plotly.newPlot(                        \"300112f9-1cc0-49cc-b77d-c7147c0c3833\",                        [{\"hovertemplate\":\"speed=-0.01-4.21<br>frequency=%{r}<br>direction=%{theta}<extra></extra>\",\"legendgroup\":\"-0.01-4.21\",\"marker\":{\"color\":\"rgb(237, 239, 93)\",\"pattern\":{\"shape\":\"\"}},\"name\":\"-0.01-4.21\",\"r\":[432,436,450,495,442,446,375,484,402,367,375,422,366,373,369,412,364,386,357,424,465,426,468,550,438,502,475,483,478,438,468,479],\"showlegend\":true,\"subplot\":\"polar\",\"theta\":[\"N\",\"NNE\",\"NNE\",\"NE\",\"NE\",\"ENE\",\"ENE\",\"E\",\"E\",\"ESE\",\"ESE\",\"SE\",\"SE\",\"SSE\",\"SSE\",\"S\",\"S\",\"SSW\",\"SSW\",\"SW\",\"SW\",\"WSW\",\"WSW\",\"W\",\"W\",\"WNW\",\"WNW\",\"NW\",\"NW\",\"NNW\",\"NNW\",\"N\"],\"type\":\"barpolar\"},{\"hovertemplate\":\"speed=4.21-8.41<br>frequency=%{r}<br>direction=%{theta}<extra></extra>\",\"legendgroup\":\"4.21-8.41\",\"marker\":{\"color\":\"rgb(169, 220, 103)\",\"pattern\":{\"shape\":\"\"}},\"name\":\"4.21-8.41\",\"r\":[1301,1219,1281,1232,1145,1051,896,1063,905,861,788,886,879,990,1202,1484,1617,1776,1882,2079,1787,1892,2049,2347,2279,2081,1877,1718,1561,1282,1308,1276],\"showlegend\":true,\"subplot\":\"polar\",\"theta\":[\"N\",\"NNE\",\"NNE\",\"NE\",\"NE\",\"ENE\",\"ENE\",\"E\",\"E\",\"ESE\",\"ESE\",\"SE\",\"SE\",\"SSE\",\"SSE\",\"S\",\"S\",\"SSW\",\"SSW\",\"SW\",\"SW\",\"WSW\",\"WSW\",\"W\",\"W\",\"WNW\",\"WNW\",\"NW\",\"NW\",\"NNW\",\"NNW\",\"N\"],\"type\":\"barpolar\"},{\"hovertemplate\":\"speed=8.41-12.61<br>frequency=%{r}<br>direction=%{theta}<extra></extra>\",\"legendgroup\":\"8.41-12.61\",\"marker\":{\"color\":\"rgb(110, 197, 116)\",\"pattern\":{\"shape\":\"\"}},\"name\":\"8.41-12.61\",\"r\":[533,378,336,363,267,245,226,212,184,183,184,199,303,496,666,1063,1361,1530,1487,1593,1305,1280,1466,1928,1767,1502,1369,1147,878,695,570,538],\"showlegend\":true,\"subplot\":\"polar\",\"theta\":[\"N\",\"NNE\",\"NNE\",\"NE\",\"NE\",\"ENE\",\"ENE\",\"E\",\"E\",\"ESE\",\"ESE\",\"SE\",\"SE\",\"SSE\",\"SSE\",\"S\",\"S\",\"SSW\",\"SSW\",\"SW\",\"SW\",\"WSW\",\"WSW\",\"W\",\"W\",\"WNW\",\"WNW\",\"NW\",\"NW\",\"NNW\",\"NNW\",\"N\"],\"type\":\"barpolar\"},{\"hovertemplate\":\"speed=12.61-16.80<br>frequency=%{r}<br>direction=%{theta}<extra></extra>\",\"legendgroup\":\"12.61-16.80\",\"marker\":{\"color\":\"rgb(57, 171, 126)\",\"pattern\":{\"shape\":\"\"}},\"name\":\"12.61-16.80\",\"r\":[45,31,40,25,18,11,15,5,9,9,13,18,27,64,104,212,276,368,393,453,302,414,579,747,602,433,259,257,117,143,96,94],\"showlegend\":true,\"subplot\":\"polar\",\"theta\":[\"N\",\"NNE\",\"NNE\",\"NE\",\"NE\",\"ENE\",\"ENE\",\"E\",\"E\",\"ESE\",\"ESE\",\"SE\",\"SE\",\"SSE\",\"SSE\",\"S\",\"S\",\"SSW\",\"SSW\",\"SW\",\"SW\",\"WSW\",\"WSW\",\"W\",\"W\",\"WNW\",\"WNW\",\"NW\",\"NW\",\"NNW\",\"NNW\",\"N\"],\"type\":\"barpolar\"},{\"hovertemplate\":\"speed=16.80-21.00<br>frequency=%{r}<br>direction=%{theta}<extra></extra>\",\"legendgroup\":\"16.80-21.00\",\"marker\":{\"color\":\"rgb(13, 143, 129)\",\"pattern\":{\"shape\":\"\"}},\"name\":\"16.80-21.00\",\"r\":[1,0,2,0,0,0,0,0,1,0,0,0,0,2,19,16,34,36,34,41,61,73,99,118,70,36,20,13,8,25,11,8],\"showlegend\":true,\"subplot\":\"polar\",\"theta\":[\"N\",\"NNE\",\"NNE\",\"NE\",\"NE\",\"ENE\",\"ENE\",\"E\",\"E\",\"ESE\",\"ESE\",\"SE\",\"SE\",\"SSE\",\"SSE\",\"S\",\"S\",\"SSW\",\"SSW\",\"SW\",\"SW\",\"WSW\",\"WSW\",\"W\",\"W\",\"WNW\",\"WNW\",\"NW\",\"NW\",\"NNW\",\"NNW\",\"N\"],\"type\":\"barpolar\"},{\"hovertemplate\":\"speed=21.00-25.19<br>frequency=%{r}<br>direction=%{theta}<extra></extra>\",\"legendgroup\":\"21.00-25.19\",\"marker\":{\"color\":\"rgb(15, 114, 121)\",\"pattern\":{\"shape\":\"\"}},\"name\":\"21.00-25.19\",\"r\":[0,0,0,0,0,0,0,0,0,0,0,0,0,0,0,1,0,1,2,4,6,6,14,6,3,2,1,0,0,0,0,0],\"showlegend\":true,\"subplot\":\"polar\",\"theta\":[\"N\",\"NNE\",\"NNE\",\"NE\",\"NE\",\"ENE\",\"ENE\",\"E\",\"E\",\"ESE\",\"ESE\",\"SE\",\"SE\",\"SSE\",\"SSE\",\"S\",\"S\",\"SSW\",\"SSW\",\"SW\",\"SW\",\"WSW\",\"WSW\",\"W\",\"W\",\"WNW\",\"WNW\",\"NW\",\"NW\",\"NNW\",\"NNW\",\"N\"],\"type\":\"barpolar\"}],                        {\"template\":{\"data\":{\"pie\":[{\"automargin\":true,\"type\":\"pie\"}]},\"layout\":{\"xaxis\":{\"showgrid\":false,\"title\":{\"standoff\":15}},\"yaxis\":{\"title\":{\"standoff\":15}}}},\"polar\":{\"domain\":{\"x\":[0.0,1.0],\"y\":[0.0,1.0]},\"angularaxis\":{\"direction\":\"clockwise\",\"rotation\":90,\"categoryorder\":\"array\",\"categoryarray\":[\"N\",\"NNE\",\"NE\",\"ENE\",\"E\",\"ESE\",\"SE\",\"SSE\",\"S\",\"SSW\",\"SW\",\"WSW\",\"W\",\"WNW\",\"NW\",\"NNW\"]}},\"legend\":{\"title\":{\"text\":\"speed\"},\"tracegroupgap\":0},\"title\":{\"text\":\"Winter Wind\"},\"barmode\":\"relative\"},                        {\"responsive\": true}                    ).then(function(){\n",
       "                            \n",
       "var gd = document.getElementById('300112f9-1cc0-49cc-b77d-c7147c0c3833');\n",
       "var x = new MutationObserver(function (mutations, observer) {{\n",
       "        var display = window.getComputedStyle(gd).display;\n",
       "        if (!display || display === 'none') {{\n",
       "            console.log([gd, 'removed!']);\n",
       "            Plotly.purge(gd);\n",
       "            observer.disconnect();\n",
       "        }}\n",
       "}});\n",
       "\n",
       "// Listen for the removal of the full notebook cells\n",
       "var notebookContainer = gd.closest('#notebook-container');\n",
       "if (notebookContainer) {{\n",
       "    x.observe(notebookContainer, {childList: true});\n",
       "}}\n",
       "\n",
       "// Listen for the clearing of the current output cell\n",
       "var outputEl = gd.closest('.output');\n",
       "if (outputEl) {{\n",
       "    x.observe(outputEl, {childList: true});\n",
       "}}\n",
       "\n",
       "                        })                };                });            </script>        </div>"
      ]
     },
     "metadata": {},
     "output_type": "display_data"
    }
   ],
   "source": [
    "WRWI = WindRose(winter)\n",
    "WRWI.calc_stats(normed=False, bins=6)\n",
    "WRWI.plot(output_type='show',\n",
    "        out_file = '../images/winter_wr_aggrnyl.html',\n",
    "        template='xgridoff', \n",
    "        colors='Aggrnyl', \n",
    "        colors_reversed=True,\n",
    "        title='Winter Wind')\n"
   ]
  },
  {
   "cell_type": "code",
   "execution_count": 13,
   "id": "17a4b06d",
   "metadata": {},
   "outputs": [
    {
     "data": {
      "image/png": "[encoded data removed]",
      "text/plain": [
       "<Figure size 640x480 with 4 Axes>"
      ]
     },
     "metadata": {},
     "output_type": "display_data"
    }
   ],
   "source": [
    "fig, ((ax1, ax2), (ax3, ax4)) = plt.subplots(2, 2)"
   ]
  },
  {
   "cell_type": "code",
   "execution_count": null,
   "id": "db7b16c8",
   "metadata": {},
   "outputs": [],
   "source": []
  },
  {
   "cell_type": "code",
   "execution_count": 32,
   "id": "f7c0fb57",
   "metadata": {},
   "outputs": [],
   "source": [
    "fig = px.bar_polar(\n",
    "    WRWI.wind_df, r=\"frequency\", theta=\"direction\", color=\"speed\",\n",
    "    template='seaborn', color_discrete_sequence=px.colors.sequential.Aggrnyl[::-1], \n",
    "    category_orders={'direction': [\n",
    "        'N', 'NNE', 'NE', 'ENE', 'E', 'ESE', 'SE', 'SSE', 'S', 'SSW', \n",
    "        'SW', 'WSW', 'W', 'WNW', 'NW', 'NNW']\n",
    "    },\n",
    "    title='Winter',\n",
    "\n",
    "    )\n",
    "\n",
    "fig.update_layout(showlegend=False, \n",
    "    legend=dict(\n",
    "    orientation=\"v\",\n",
    "    yanchor=\"bottom\",\n",
    "    y=.4,\n",
    "    xanchor=\"right\",\n",
    "    x=1\n",
    "))\n",
    "\n",
    "pio.write_image(fig, file='../images/wind_rose_images/winter.png', height=500, width=500, scale=5.0)\n"
   ]
  },
  {
   "cell_type": "code",
   "execution_count": null,
   "id": "6f8768e7",
   "metadata": {},
   "outputs": [],
   "source": []
  },
  {
   "cell_type": "code",
   "execution_count": null,
   "id": "ef908b98",
   "metadata": {},
   "outputs": [],
   "source": []
  }
 ],
 "metadata": {
  "kernelspec": {
   "display_name": "Python 3 (ipykernel)",
   "language": "python",
   "name": "python3"
  },
  "language_info": {
   "codemirror_mode": {
    "name": "ipython",
    "version": 3
   },
   "file_extension": ".py",
   "mimetype": "text/x-python",
   "name": "python",
   "nbconvert_exporter": "python",
   "pygments_lexer": "ipython3",
   "version": "3.10.6"
  }
 },
 "nbformat": 4,
 "nbformat_minor": 5
}
